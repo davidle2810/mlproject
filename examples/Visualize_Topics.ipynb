{
 "cells": [
  {
   "cell_type": "markdown",
   "metadata": {},
   "source": [
    "### Data Set: \n",
    "https://github.com/mhjabreel/CharCnn_Keras/tree/master/data/ag_news_csv\n",
    "\n",
    "The AG's news topic classification dataset is constructed by choosing the 4 largest classes from the original corpus. Each class contains 30,000 training samples and 1,900 testing samples. The total number of training samples is 120,000 and testing 7,600. \n",
    "\n",
    "The classes are: \n",
    "\n",
    "* World\n",
    "* Sports\n",
    "* Business\n",
    "* Science/Technology\n",
    "\n",
    "#### For more information on how to use Lbl2Vec, visit the [API Guide](https://lbl2vec.readthedocs.io/en/latest/api.html#)"
   ]
  },
  {
   "cell_type": "code",
   "execution_count": 1,
   "metadata": {},
   "outputs": [],
   "source": [
    "from lbl2vec import Lbl2Vec\n",
    "import pandas as pd\n",
    "from gensim.utils import simple_preprocess\n",
    "from gensim.models.doc2vec import TaggedDocument\n",
    "from gensim.parsing.preprocessing import strip_tags, STOPWORDS\n",
    "from sklearn.feature_extraction.text import CountVectorizer\n",
    "import re"
   ]
  },
  {
   "cell_type": "markdown",
   "metadata": {},
   "source": [
    "### Load data"
   ]
  },
  {
   "cell_type": "code",
   "execution_count": 2,
   "metadata": {},
   "outputs": [],
   "source": [
    "# load train data\n",
    "ag_train = pd.read_csv('data/train.csv',sep=',',header=None, names=['class','title','description'])\n",
    "\n",
    "# load test data\n",
    "ag_test = pd.read_csv('data/test.csv',sep=',',header=None, names=['class','title','description'])\n",
    "\n",
    "# load labels with keywords\n",
    "labels = pd.read_csv('data/labels.csv',sep=';')\n",
    "\n",
    "# split keywords by separator and save them as array\n",
    "labels['keywords'] = labels['keywords'].apply(lambda x: x.split(' '))\n",
    "\n",
    "# convert description keywords to lowercase\n",
    "labels['keywords'] = labels['keywords'].apply(lambda description_keywords: [keyword.lower() for keyword in description_keywords])\n",
    "\n",
    "# get number of keywords for each class\n",
    "labels['number_of_keywords'] = labels['keywords'].apply(lambda row: len(row))"
   ]
  },
  {
   "cell_type": "code",
   "execution_count": 3,
   "metadata": {},
   "outputs": [
    {
     "data": {
      "text/html": [
       "<div>\n",
       "<style scoped>\n",
       "    .dataframe tbody tr th:only-of-type {\n",
       "        vertical-align: middle;\n",
       "    }\n",
       "\n",
       "    .dataframe tbody tr th {\n",
       "        vertical-align: top;\n",
       "    }\n",
       "\n",
       "    .dataframe thead th {\n",
       "        text-align: right;\n",
       "    }\n",
       "</style>\n",
       "<table border=\"1\" class=\"dataframe\">\n",
       "  <thead>\n",
       "    <tr style=\"text-align: right;\">\n",
       "      <th></th>\n",
       "      <th>class_index</th>\n",
       "      <th>class_name</th>\n",
       "      <th>keywords</th>\n",
       "      <th>number_of_keywords</th>\n",
       "    </tr>\n",
       "  </thead>\n",
       "  <tbody>\n",
       "    <tr>\n",
       "      <th>0</th>\n",
       "      <td>1</td>\n",
       "      <td>World</td>\n",
       "      <td>[election, state, president, police, politics,...</td>\n",
       "      <td>11</td>\n",
       "    </tr>\n",
       "    <tr>\n",
       "      <th>1</th>\n",
       "      <td>2</td>\n",
       "      <td>Sports</td>\n",
       "      <td>[olympic, football, sport, league, baseball, r...</td>\n",
       "      <td>32</td>\n",
       "    </tr>\n",
       "    <tr>\n",
       "      <th>2</th>\n",
       "      <td>3</td>\n",
       "      <td>Business</td>\n",
       "      <td>[company, market, oil, consumers, exchange, bu...</td>\n",
       "      <td>10</td>\n",
       "    </tr>\n",
       "    <tr>\n",
       "      <th>3</th>\n",
       "      <td>4</td>\n",
       "      <td>Science/Technology</td>\n",
       "      <td>[laboratory, computers, science, technology, w...</td>\n",
       "      <td>18</td>\n",
       "    </tr>\n",
       "  </tbody>\n",
       "</table>\n",
       "</div>"
      ],
      "text/plain": [
       "   class_index          class_name  \\\n",
       "0            1               World   \n",
       "1            2              Sports   \n",
       "2            3            Business   \n",
       "3            4  Science/Technology   \n",
       "\n",
       "                                            keywords  number_of_keywords  \n",
       "0  [election, state, president, police, politics,...                  11  \n",
       "1  [olympic, football, sport, league, baseball, r...                  32  \n",
       "2  [company, market, oil, consumers, exchange, bu...                  10  \n",
       "3  [laboratory, computers, science, technology, w...                  18  "
      ]
     },
     "execution_count": 3,
     "metadata": {},
     "output_type": "execute_result"
    }
   ],
   "source": [
    "labels"
   ]
  },
  {
   "cell_type": "markdown",
   "metadata": {},
   "source": [
    "### Tokenize data"
   ]
  },
  {
   "cell_type": "code",
   "execution_count": 4,
   "metadata": {},
   "outputs": [],
   "source": [
    "# doc: document text string\n",
    "# returns tokenized document\n",
    "# strip_tags removes meta tags from the text\n",
    "# simple preprocess converts a document into a list of lowercase tokens, ignoring tokens that are too short or too long \n",
    "# simple preprocess also removes numerical values as well as punktuation characters\n",
    "def tokenize(doc):\n",
    "    return simple_preprocess(strip_tags(doc), deacc=True, min_len=2, max_len=15)"
   ]
  },
  {
   "cell_type": "code",
   "execution_count": 5,
   "metadata": {},
   "outputs": [],
   "source": [
    "# add data set type column\n",
    "ag_train['data_set_type'] = 'train'\n",
    "ag_test['data_set_type'] = 'test'\n",
    "\n",
    "# concat train and test data\n",
    "ag_full_corpus = pd.concat([ag_train,ag_test]).reset_index(drop=True)"
   ]
  },
  {
   "cell_type": "code",
   "execution_count": 6,
   "metadata": {},
   "outputs": [],
   "source": [
    "# tokenize and tag documents combined title + description for Lbl2Vec training\n",
    "ag_full_corpus['tagged_docs'] = ag_full_corpus.apply(lambda row: TaggedDocument(tokenize(row['title'] + '. ' + row['description']), [str(row.name)]), axis=1)"
   ]
  },
  {
   "cell_type": "code",
   "execution_count": 7,
   "metadata": {},
   "outputs": [],
   "source": [
    "# add doc_key column\n",
    "ag_full_corpus['doc_key'] = ag_full_corpus.index.astype(str)"
   ]
  },
  {
   "cell_type": "code",
   "execution_count": 8,
   "metadata": {},
   "outputs": [],
   "source": [
    "# add class_name column\n",
    "ag_full_corpus = ag_full_corpus.merge(labels, left_on='class', right_on='class_index', how='left').drop(['class', 'keywords'], axis=1)"
   ]
  },
  {
   "cell_type": "code",
   "execution_count": 9,
   "metadata": {},
   "outputs": [
    {
     "data": {
      "text/html": [
       "<div>\n",
       "<style scoped>\n",
       "    .dataframe tbody tr th:only-of-type {\n",
       "        vertical-align: middle;\n",
       "    }\n",
       "\n",
       "    .dataframe tbody tr th {\n",
       "        vertical-align: top;\n",
       "    }\n",
       "\n",
       "    .dataframe thead th {\n",
       "        text-align: right;\n",
       "    }\n",
       "</style>\n",
       "<table border=\"1\" class=\"dataframe\">\n",
       "  <thead>\n",
       "    <tr style=\"text-align: right;\">\n",
       "      <th></th>\n",
       "      <th>title</th>\n",
       "      <th>description</th>\n",
       "      <th>data_set_type</th>\n",
       "      <th>tagged_docs</th>\n",
       "      <th>doc_key</th>\n",
       "      <th>class_index</th>\n",
       "      <th>class_name</th>\n",
       "      <th>number_of_keywords</th>\n",
       "    </tr>\n",
       "  </thead>\n",
       "  <tbody>\n",
       "    <tr>\n",
       "      <th>0</th>\n",
       "      <td>Wall St. Bears Claw Back Into the Black (Reuters)</td>\n",
       "      <td>Reuters - Short-sellers, Wall Street's dwindli...</td>\n",
       "      <td>train</td>\n",
       "      <td>([wall, st, bears, claw, back, into, the, blac...</td>\n",
       "      <td>0</td>\n",
       "      <td>3</td>\n",
       "      <td>Business</td>\n",
       "      <td>10</td>\n",
       "    </tr>\n",
       "    <tr>\n",
       "      <th>1</th>\n",
       "      <td>Carlyle Looks Toward Commercial Aerospace (Reu...</td>\n",
       "      <td>Reuters - Private investment firm Carlyle Grou...</td>\n",
       "      <td>train</td>\n",
       "      <td>([carlyle, looks, toward, commercial, aerospac...</td>\n",
       "      <td>1</td>\n",
       "      <td>3</td>\n",
       "      <td>Business</td>\n",
       "      <td>10</td>\n",
       "    </tr>\n",
       "    <tr>\n",
       "      <th>2</th>\n",
       "      <td>Oil and Economy Cloud Stocks' Outlook (Reuters)</td>\n",
       "      <td>Reuters - Soaring crude prices plus worries\\ab...</td>\n",
       "      <td>train</td>\n",
       "      <td>([oil, and, economy, cloud, stocks, outlook, r...</td>\n",
       "      <td>2</td>\n",
       "      <td>3</td>\n",
       "      <td>Business</td>\n",
       "      <td>10</td>\n",
       "    </tr>\n",
       "    <tr>\n",
       "      <th>3</th>\n",
       "      <td>Iraq Halts Oil Exports from Main Southern Pipe...</td>\n",
       "      <td>Reuters - Authorities have halted oil export\\f...</td>\n",
       "      <td>train</td>\n",
       "      <td>([iraq, halts, oil, exports, from, main, south...</td>\n",
       "      <td>3</td>\n",
       "      <td>3</td>\n",
       "      <td>Business</td>\n",
       "      <td>10</td>\n",
       "    </tr>\n",
       "    <tr>\n",
       "      <th>4</th>\n",
       "      <td>Oil prices soar to all-time record, posing new...</td>\n",
       "      <td>AFP - Tearaway world oil prices, toppling reco...</td>\n",
       "      <td>train</td>\n",
       "      <td>([oil, prices, soar, to, all, time, record, po...</td>\n",
       "      <td>4</td>\n",
       "      <td>3</td>\n",
       "      <td>Business</td>\n",
       "      <td>10</td>\n",
       "    </tr>\n",
       "  </tbody>\n",
       "</table>\n",
       "</div>"
      ],
      "text/plain": [
       "                                               title  \\\n",
       "0  Wall St. Bears Claw Back Into the Black (Reuters)   \n",
       "1  Carlyle Looks Toward Commercial Aerospace (Reu...   \n",
       "2    Oil and Economy Cloud Stocks' Outlook (Reuters)   \n",
       "3  Iraq Halts Oil Exports from Main Southern Pipe...   \n",
       "4  Oil prices soar to all-time record, posing new...   \n",
       "\n",
       "                                         description data_set_type  \\\n",
       "0  Reuters - Short-sellers, Wall Street's dwindli...         train   \n",
       "1  Reuters - Private investment firm Carlyle Grou...         train   \n",
       "2  Reuters - Soaring crude prices plus worries\\ab...         train   \n",
       "3  Reuters - Authorities have halted oil export\\f...         train   \n",
       "4  AFP - Tearaway world oil prices, toppling reco...         train   \n",
       "\n",
       "                                         tagged_docs doc_key  class_index  \\\n",
       "0  ([wall, st, bears, claw, back, into, the, blac...       0            3   \n",
       "1  ([carlyle, looks, toward, commercial, aerospac...       1            3   \n",
       "2  ([oil, and, economy, cloud, stocks, outlook, r...       2            3   \n",
       "3  ([iraq, halts, oil, exports, from, main, south...       3            3   \n",
       "4  ([oil, prices, soar, to, all, time, record, po...       4            3   \n",
       "\n",
       "  class_name  number_of_keywords  \n",
       "0   Business                  10  \n",
       "1   Business                  10  \n",
       "2   Business                  10  \n",
       "3   Business                  10  \n",
       "4   Business                  10  "
      ]
     },
     "execution_count": 9,
     "metadata": {},
     "output_type": "execute_result"
    }
   ],
   "source": [
    "ag_full_corpus.head()"
   ]
  },
  {
   "cell_type": "markdown",
   "metadata": {},
   "source": [
    "# Train Lbl2Vec\n",
    "\n",
    "Train a new model from scratch with the following parameters:\n",
    "* keywords_list : iterable list of lists with descriptive keywords for each topic.\n",
    "* tagged_documents : iterable list of [gensim.models.doc2vec.TaggedDocument](https://radimrehurek.com/gensim/models/doc2vec.html#gensim.models.doc2vec.TaggedDocument) elements. Each element consists of one document.\n",
    "* label_names : iterable list of custom names for each label. Label names and keywords of the same topic must have the same index.\n",
    "* similarity_threshold : only documents with a higher similarity to the respective description keywords than this treshold are used to calculate the label embedding.\n",
    "* min_num_docs : minimum number of documents that are used to calculate the label embedding. \n",
    "* epochs : number of iterations over the corpus."
   ]
  },
  {
   "cell_type": "code",
   "execution_count": 10,
   "metadata": {},
   "outputs": [],
   "source": [
    "# init model with parameters\n",
    "lbl2vec_model = Lbl2Vec(keywords_list=list(labels['keywords']), tagged_documents=ag_full_corpus['tagged_docs'][ag_full_corpus['data_set_type']=='train'], label_names=list(labels['class_name']), similarity_threshold=0.30, min_num_docs=100, epochs=10)"
   ]
  },
  {
   "cell_type": "code",
   "execution_count": 11,
   "metadata": {},
   "outputs": [
    {
     "name": "stderr",
     "output_type": "stream",
     "text": [
      "2021-07-20 09:10:15,016 - Lbl2Vec - INFO - Train document and word embeddings\n",
      "2021-07-20 09:12:13,075 - Lbl2Vec - INFO - Train label embeddings\n"
     ]
    }
   ],
   "source": [
    "# train model\n",
    "lbl2vec_model.fit()"
   ]
  },
  {
   "cell_type": "markdown",
   "metadata": {},
   "source": [
    "# Predict document topics of documents used to train Lbl2Vec\n",
    "\n",
    "Compute similarity scores of learned document vectors from documents that were used to train the model to each of the learned label vectors. The similarity scores consist of cosine similarities and therefore have a value range of [-1,1]."
   ]
  },
  {
   "cell_type": "code",
   "execution_count": 12,
   "metadata": {},
   "outputs": [
    {
     "name": "stderr",
     "output_type": "stream",
     "text": [
      "2021-07-20 09:13:42,690 - Lbl2Vec - INFO - Get document embeddings from model\n",
      "2021-07-20 09:13:42,857 - Lbl2Vec - INFO - Calculate document<->label similarities\n"
     ]
    }
   ],
   "source": [
    "# predict similarity scores\n",
    "model_docs_lbl_similarities = lbl2vec_model.predict_model_docs()"
   ]
  },
  {
   "cell_type": "code",
   "execution_count": 13,
   "metadata": {},
   "outputs": [
    {
     "data": {
      "text/html": [
       "<div>\n",
       "<style scoped>\n",
       "    .dataframe tbody tr th:only-of-type {\n",
       "        vertical-align: middle;\n",
       "    }\n",
       "\n",
       "    .dataframe tbody tr th {\n",
       "        vertical-align: top;\n",
       "    }\n",
       "\n",
       "    .dataframe thead th {\n",
       "        text-align: right;\n",
       "    }\n",
       "</style>\n",
       "<table border=\"1\" class=\"dataframe\">\n",
       "  <thead>\n",
       "    <tr style=\"text-align: right;\">\n",
       "      <th></th>\n",
       "      <th>doc_key</th>\n",
       "      <th>most_similar_label</th>\n",
       "      <th>highest_similarity_score</th>\n",
       "      <th>World</th>\n",
       "      <th>Sports</th>\n",
       "      <th>Business</th>\n",
       "      <th>Science/Technology</th>\n",
       "    </tr>\n",
       "  </thead>\n",
       "  <tbody>\n",
       "    <tr>\n",
       "      <th>0</th>\n",
       "      <td>0</td>\n",
       "      <td>Sports</td>\n",
       "      <td>0.495201</td>\n",
       "      <td>0.283666</td>\n",
       "      <td>0.495201</td>\n",
       "      <td>0.413946</td>\n",
       "      <td>0.483179</td>\n",
       "    </tr>\n",
       "    <tr>\n",
       "      <th>1</th>\n",
       "      <td>1</td>\n",
       "      <td>Science/Technology</td>\n",
       "      <td>0.501601</td>\n",
       "      <td>0.240291</td>\n",
       "      <td>0.362480</td>\n",
       "      <td>0.473350</td>\n",
       "      <td>0.501601</td>\n",
       "    </tr>\n",
       "    <tr>\n",
       "      <th>2</th>\n",
       "      <td>2</td>\n",
       "      <td>Business</td>\n",
       "      <td>0.527285</td>\n",
       "      <td>0.221636</td>\n",
       "      <td>0.321899</td>\n",
       "      <td>0.527285</td>\n",
       "      <td>0.427591</td>\n",
       "    </tr>\n",
       "    <tr>\n",
       "      <th>3</th>\n",
       "      <td>3</td>\n",
       "      <td>World</td>\n",
       "      <td>0.508490</td>\n",
       "      <td>0.508490</td>\n",
       "      <td>0.174409</td>\n",
       "      <td>0.389050</td>\n",
       "      <td>0.273477</td>\n",
       "    </tr>\n",
       "    <tr>\n",
       "      <th>4</th>\n",
       "      <td>4</td>\n",
       "      <td>Business</td>\n",
       "      <td>0.413479</td>\n",
       "      <td>0.410900</td>\n",
       "      <td>0.308900</td>\n",
       "      <td>0.413479</td>\n",
       "      <td>0.309548</td>\n",
       "    </tr>\n",
       "  </tbody>\n",
       "</table>\n",
       "</div>"
      ],
      "text/plain": [
       "  doc_key  most_similar_label  highest_similarity_score     World    Sports  \\\n",
       "0       0              Sports                  0.495201  0.283666  0.495201   \n",
       "1       1  Science/Technology                  0.501601  0.240291  0.362480   \n",
       "2       2            Business                  0.527285  0.221636  0.321899   \n",
       "3       3               World                  0.508490  0.508490  0.174409   \n",
       "4       4            Business                  0.413479  0.410900  0.308900   \n",
       "\n",
       "   Business  Science/Technology  \n",
       "0  0.413946            0.483179  \n",
       "1  0.473350            0.501601  \n",
       "2  0.527285            0.427591  \n",
       "3  0.389050            0.273477  \n",
       "4  0.413479            0.309548  "
      ]
     },
     "execution_count": 13,
     "metadata": {},
     "output_type": "execute_result"
    }
   ],
   "source": [
    "model_docs_lbl_similarities.head()"
   ]
  },
  {
   "cell_type": "code",
   "execution_count": 14,
   "metadata": {},
   "outputs": [],
   "source": [
    "# merge DataFrames\n",
    "full_evaluation_df = model_docs_lbl_similarities.merge(ag_full_corpus, left_on='doc_key', right_on='doc_key')"
   ]
  },
  {
   "cell_type": "markdown",
   "metadata": {},
   "source": [
    "# pyLDAvis visualization"
   ]
  },
  {
   "cell_type": "code",
   "execution_count": 15,
   "metadata": {},
   "outputs": [],
   "source": [
    "lbl_dict = {'World':1, 'Sports':2, 'Business':3, 'Science/Technology':4}\n",
    "full_evaluation_df['label_index'] = full_evaluation_df['most_similar_label'].apply(lambda row: lbl_dict[row])"
   ]
  },
  {
   "cell_type": "code",
   "execution_count": 16,
   "metadata": {},
   "outputs": [],
   "source": [
    "# create a matrix of document-topic probabilities\n",
    "doc_topic_dists_vectorizer = CountVectorizer(analyzer='char')\n",
    "doc_topic_dists = doc_topic_dists_vectorizer.fit_transform([str(x) for x in list(full_evaluation_df['label_index'])])"
   ]
  },
  {
   "cell_type": "code",
   "execution_count": 17,
   "metadata": {},
   "outputs": [],
   "source": [
    "# concat title + descrpition to one text for each document\n",
    "full_evaluation_df['full_text'] = full_evaluation_df.apply(lambda row: row['title'] + '. ' + row['description'], axis=1)\n",
    "# Remove punctuation\n",
    "full_evaluation_df['full_text_processed'] = full_evaluation_df['full_text'].map(lambda row: re.sub('[,\\.!?]', '', row))\n",
    "# Convert the titles to lowercase\n",
    "full_evaluation_df['full_text_processed'] = full_evaluation_df['full_text_processed'].map(lambda row: row.lower())\n",
    "# split into word list\n",
    "full_evaluation_df['full_text_processed'] = full_evaluation_df['full_text'].apply(lambda row: tokenize(row))\n",
    "# remove stop words\n",
    "full_evaluation_df['full_text_processed'] = full_evaluation_df['full_text_processed'].apply(lambda row: [word for word in row if not word in STOPWORDS and len(word)>2])\n",
    "# join word list to single string\n",
    "full_evaluation_df['full_text_processed'] = full_evaluation_df['full_text_processed'].apply(lambda row: ' '.join(row))\n",
    "# get doc lengths\n",
    "full_evaluation_df['doc_length'] = full_evaluation_df['full_text_processed'].apply(lambda x: len(x.split(' ')))"
   ]
  },
  {
   "cell_type": "code",
   "execution_count": 18,
   "metadata": {},
   "outputs": [],
   "source": [
    "# group full articles (title + text) by classified label\n",
    "docs_per_class = full_evaluation_df.groupby(['most_similar_label'], as_index=False).agg({'full_text_processed': ' '.join})"
   ]
  },
  {
   "cell_type": "code",
   "execution_count": 19,
   "metadata": {},
   "outputs": [],
   "source": [
    "# create topic-word distribution with KxM shape, where K is number of topics and M is vocabulary size\n",
    "topic_vectorizer = CountVectorizer()\n",
    "topic_term_matrix = topic_vectorizer.fit_transform(list(docs_per_class['full_text_processed']))"
   ]
  },
  {
   "cell_type": "code",
   "execution_count": 20,
   "metadata": {},
   "outputs": [
    {
     "data": {
      "text/html": [
       "<style>.container { max-width:100% !important; }</style>"
      ],
      "text/plain": [
       "<IPython.core.display.HTML object>"
      ]
     },
     "metadata": {},
     "output_type": "display_data"
    },
    {
     "data": {
      "text/html": [
       "<style>.output_result { max-width:100% !important; }</style>"
      ],
      "text/plain": [
       "<IPython.core.display.HTML object>"
      ]
     },
     "metadata": {},
     "output_type": "display_data"
    },
    {
     "data": {
      "text/html": [
       "<style>.output_area { max-width:100% !important; }</style>"
      ],
      "text/plain": [
       "<IPython.core.display.HTML object>"
      ]
     },
     "metadata": {},
     "output_type": "display_data"
    },
    {
     "data": {
      "text/html": [
       "<style>.input_area { max-width:100% !important; }</style>"
      ],
      "text/plain": [
       "<IPython.core.display.HTML object>"
      ]
     },
     "metadata": {},
     "output_type": "display_data"
    }
   ],
   "source": [
    "import pyLDAvis\n",
    "%matplotlib inline\n",
    "from IPython.core.display import display, HTML\n",
    "display(HTML(\"<style>.container { max-width:100% !important; }</style>\"))\n",
    "display(HTML(\"<style>.output_result { max-width:100% !important; }</style>\"))\n",
    "display(HTML(\"<style>.output_area { max-width:100% !important; }</style>\"))\n",
    "display(HTML(\"<style>.input_area { max-width:100% !important; }</style>\"))\n",
    "pyLDAvis.enable_notebook()\n",
    "\n",
    "# prepare pyLDAvis data\n",
    "pyLDAvis_data = pyLDAvis.prepare(mds='pcoa', topic_term_dists=topic_term_matrix.toarray(), doc_topic_dists=doc_topic_dists.toarray(), doc_lengths=list(full_evaluation_df['doc_length']), vocab=topic_vectorizer.get_feature_names(), term_frequency=list(pd.DataFrame(topic_term_matrix.toarray()).sum()))\n",
    "\n",
    "# parse topic names\n",
    "parsedLDAtopics = pyLDAvis_data.topic_coordinates.reset_index().merge(docs_per_class.reset_index(), left_on='topic',right_on='index')[['topics','most_similar_label']]\n",
    "parsedpyLDAvistopicsdict = dict(zip(list(parsedLDAtopics['topics']),list(parsedLDAtopics['most_similar_label'])))"
   ]
  },
  {
   "cell_type": "code",
   "execution_count": 21,
   "metadata": {},
   "outputs": [
    {
     "name": "stdout",
     "output_type": "stream",
     "text": [
      "Parsed pyLDAvis topics to class names: {1: 'Business', 2: 'Science/Technology', 3: 'Sports', 4: 'World'}\n"
     ]
    },
    {
     "name": "stderr",
     "output_type": "stream",
     "text": [
      "/opt/anaconda3/lib/python3.8/site-packages/ipykernel/ipkernel.py:287: DeprecationWarning: `should_run_async` will not call `transform_cell` automatically in the future. Please pass the result to `transformed_cell` argument and any exception that happen during thetransform in `preprocessing_exc_tuple` in IPython 7.17 and above.\n",
      "  and should_run_async(code)\n"
     ]
    },
    {
     "data": {
      "text/html": [
       "\n",
       "<link rel=\"stylesheet\" type=\"text/css\" href=\"https://cdn.jsdelivr.net/gh/bmabey/pyLDAvis@3.3.1/pyLDAvis/js/ldavis.v1.0.0.css\">\n",
       "\n",
       "\n",
       "<div id=\"ldavis_el363841406261678178249365532679\"></div>\n",
       "<script type=\"text/javascript\">\n",
       "\n",
       "var ldavis_el363841406261678178249365532679_data = {\"mdsDat\": {\"x\": [0.1460728670684207, 0.08670968345440831, -0.1825666911147904, -0.05021585940803865], \"y\": [-0.015128617054159455, -0.06655876158928095, -0.09129652894473708, 0.1729839075881775], \"topics\": [1, 2, 3, 4], \"cluster\": [1, 1, 1, 1], \"Freq\": [27.202912413059217, 26.64056440022072, 23.087661566523465, 23.068861620196596]}, \"tinfo\": {\"Term\": [\"iraq\", \"oil\", \"stocks\", \"microsoft\", \"fullquote\", \"prices\", \"game\", \"profit\", \"killed\", \"percent\", \"minister\", \"season\", \"win\", \"cup\", \"software\", \"president\", \"league\", \"reuters\", \"night\", \"said\", \"quarter\", \"team\", \"iraqi\", \"baghdad\", \"coach\", \"sales\", \"shares\", \"victory\", \"corp\", \"company\", \"aber\", \"accredo\", \"advantest\", \"aether\", \"agl\", \"ahold\", \"alinta\", \"alo\", \"alpharma\", \"alumina\", \"amatil\", \"ambev\", \"amcc\", \"ameritrade\", \"amgn\", \"amortization\", \"anadarko\", \"anf\", \"anz\", \"applebee\", \"argentaria\", \"arvinmeritor\", \"ath\", \"atherogenics\", \"att\", \"attributing\", \"automaking\", \"avp\", \"azn\", \"ballooned\", \"fullquote\", \"aspx\", \"quickinfo\", \"stocks\", \"profit\", \"inventories\", \"nikkei\", \"treasuries\", \"bhp\", \"quarterly\", \"alcoa\", \"earnings\", \"billiton\", \"conocophillips\", \"unilever\", \"wpp\", \"restate\", \"ufj\", \"woolworths\", \"wmt\", \"suntrust\", \"narrower\", \"cazenove\", \"investor\", \"uairq\", \"fnm\", \"pepsico\", \"steelmaker\", \"mercantile\", \"palmolive\", \"shares\", \"inflation\", \"jobless\", \"yen\", \"profits\", \"prices\", \"goldman\", \"pct\", \"gdp\", \"crude\", \"forecast\", \"mortgage\", \"futures\", \"fannie\", \"percent\", \"higher\", \"barrel\", \"oil\", \"securities\", \"fell\", \"href\", \"dollar\", \"investors\", \"quarter\", \"growth\", \"stock\", \"rose\", \"sales\", \"www\", \"rates\", \"target\", \"http\", \"billion\", \"rise\", \"ticker\", \"reuters\", \"company\", \"corp\", \"york\", \"said\", \"million\", \"new\", \"year\", \"com\", \"thursday\", \"monday\", \"tuesday\", \"wednesday\", \"friday\", \"market\", \"aac\", \"aaliyah\", \"aarp\", \"abagnale\", \"abakus\", \"abbreviate\", \"abbreviations\", \"abend\", \"abertoll\", \"abia\", \"abl\", \"abolishes\", \"abonns\", \"aboot\", \"abounds\", \"abstraction\", \"abstracts\", \"acacia\", \"accelerators\", \"accented\", \"accentuate\", \"accenturewill\", \"acceptability\", \"accessed\", \"accesses\", \"accessibility\", \"accessoires\", \"acclrer\", \"accoding\", \"accommodates\", \"desktop\", \"beta\", \"netscape\", \"messaging\", \"downloads\", \"symbian\", \"jpeg\", \"blu\", \"bluetooth\", \"firewall\", \"skype\", \"napster\", \"architecture\", \"app\", \"authentication\", \"centrino\", \"macromedia\", \"smartphone\", \"hellip\", \"interface\", \"unix\", \"apps\", \"thunderbird\", \"infoworld\", \"msn\", \"solaris\", \"mozilla\", \"malicious\", \"notebooks\", \"hotmail\", \"windows\", \"users\", \"firefox\", \"portable\", \"browser\", \"linux\", \"imac\", \"ziff\", \"microsoft\", \"processor\", \"version\", \"servers\", \"flaw\", \"music\", \"server\", \"ipod\", \"itunes\", \"tool\", \"pcs\", \"apple\", \"features\", \"digital\", \"search\", \"dvd\", \"enterprise\", \"software\", \"spam\", \"yahoo\", \"mail\", \"internet\", \"web\", \"ibm\", \"service\", \"storage\", \"mobile\", \"phones\", \"technology\", \"sony\", \"intel\", \"online\", \"google\", \"source\", \"phone\", \"space\", \"new\", \"wireless\", \"security\", \"company\", \"announced\", \"com\", \"quot\", \"corp\", \"said\", \"world\", \"reuters\", \"year\", \"business\", \"million\", \"aachen\", \"aaii\", \"aalborg\", \"aap\", \"aarde\", \"aardsma\", \"aarrett\", \"aasketball\", \"aau\", \"aba\", \"abbandonato\", \"abbass\", \"abby\", \"abcnews\", \"abdelmalek\", \"abdominal\", \"abdur\", \"aberdeenshire\", \"aberhet\", \"abi\", \"ably\", \"abnormality\", \"abolished\", \"aborigine\", \"abounded\", \"abounding\", \"abp\", \"abramovichs\", \"abrasive\", \"abreu\", \"quarterback\", \"inning\", \"touchdown\", \"cup\", \"playoff\", \"yankees\", \"cardinals\", \"federer\", \"finals\", \"touchdowns\", \"patriots\", \"champions\", \"rookie\", \"roddick\", \"innings\", \"championship\", \"astros\", \"colts\", \"unbeaten\", \"steelers\", \"coach\", \"angels\", \"cubs\", \"sox\", \"els\", \"agassi\", \"playoffs\", \"mariners\", \"seeded\", \"semifinals\", \"scored\", \"ryder\", \"eagles\", \"tennis\", \"dame\", \"notre\", \"medal\", \"league\", \"bowl\", \"yards\", \"tournament\", \"masters\", \"football\", \"basketball\", \"win\", \"season\", \"sports\", \"victory\", \"olympic\", \"champion\", \"title\", \"night\", \"injury\", \"game\", \"team\", \"match\", \"nfl\", \"athens\", \"points\", \"beat\", \"england\", \"lead\", \"play\", \"final\", \"round\", \"red\", \"sunday\", \"series\", \"games\", \"saturday\", \"world\", \"second\", \"new\", \"time\", \"year\", \"quot\", \"york\", \"reuters\", \"yesterday\", \"wednesday\", \"friday\", \"said\", \"aal\", \"aathar\", \"aattacks\", \"abacha\", \"abaco\", \"abaya\", \"abd\", \"abdalla\", \"abdel\", \"abdelkrim\", \"abdellah\", \"abdelraham\", \"abdelrahim\", \"abdelrahman\", \"abderrazak\", \"abdicate\", \"abdicates\", \"abdicating\", \"abdoulaye\", \"abducted\", \"abductee\", \"abductees\", \"abducting\", \"abductions\", \"abducts\", \"abdulahi\", \"abdullahi\", \"abdullahs\", \"abdurahman\", \"abdurrahman\", \"baghdad\", \"gaza\", \"militants\", \"sudan\", \"darfur\", \"palestinian\", \"hostage\", \"cleric\", \"militant\", \"hostages\", \"kabul\", \"sadr\", \"hamas\", \"fallujah\", \"falluja\", \"wounding\", \"ariel\", \"bombing\", \"shiite\", \"syria\", \"muslim\", \"bigley\", \"annan\", \"afghan\", \"sharon\", \"sudanese\", \"myanmar\", \"chechen\", \"zarqawi\", \"qaeda\", \"israeli\", \"troops\", \"killed\", \"arafat\", \"iraqi\", \"afghanistan\", \"palestinians\", \"yasser\", \"iraq\", \"bomb\", \"soldiers\", \"killing\", \"minister\", \"israel\", \"rebels\", \"nuclear\", \"military\", \"iran\", \"prime\", \"peace\", \"rebel\", \"elections\", \"police\", \"forces\", \"president\", \"leader\", \"bush\", \"war\", \"election\", \"people\", \"said\", \"afp\", \"officials\", \"government\", \"talks\", \"reuters\", \"quot\", \"country\", \"security\", \"new\", \"united\", \"says\", \"monday\", \"wednesday\", \"thursday\", \"yesterday\", \"friday\", \"tuesday\"], \"Freq\": [4111068829.0, 5595114014.0, 3749018186.0, 4391194414.0, 2749084998.0, 3691339125.0, 3823947132.0, 2465799460.0, 2159152877.0, 3391060989.0, 2409119802.0, 2852489993.0, 2777722689.0, 1836194927.0, 3328046553.0, 3962620600.0, 1866552597.0, 13711034104.0, 2605916458.0, 14155733965.0, 2963985567.0, 2827453581.0, 1644408300.0, 1472224841.0, 1525538582.0, 2813688047.0, 2016026033.0, 2086830819.0, 3868865476.0, 5671304764.0, 5307477.0, 10614954.0, 10614954.0, 3791055.0, 6823899.0, 30328440.0, 5307477.0, 9856743.0, 18955275.0, 6823899.0, 7582110.0, 15922431.0, 3791055.0, 7582110.0, 7582110.0, 3791055.0, 9856743.0, 3791055.0, 14406009.0, 6823899.0, 3791055.0, 5307477.0, 3791055.0, 9856743.0, 3791055.0, 3791055.0, 3791055.0, 5307477.0, 19713486.0, 5307477.0, 2740174554.0, 1370087277.0, 1370087277.0, 3668983029.0, 2403528870.0, 163773576.0, 295702290.0, 161498943.0, 90227109.0, 838581366.0, 67480779.0, 1506565257.0, 62931513.0, 62173302.0, 58382247.0, 57624036.0, 53832981.0, 53832981.0, 47009082.0, 98567430.0, 44734449.0, 43218027.0, 41701605.0, 1553574339.0, 40185183.0, 39426972.0, 39426972.0, 39426972.0, 37910550.0, 36394128.0, 1899318555.0, 341953161.0, 186519906.0, 363183069.0, 704378019.0, 3400576335.0, 81886788.0, 159982521.0, 92501742.0, 966719025.0, 646753983.0, 345744216.0, 373798023.0, 275230593.0, 3006306615.0, 1436809845.0, 674807790.0, 4745642649.0, 453410178.0, 936390585.0, 1408756038.0, 1479269661.0, 1106229849.0, 2502854511.0, 1424678469.0, 1299573654.0, 1160062830.0, 2325433137.0, 1415579937.0, 714234762.0, 1628637228.0, 1417096359.0, 2116166901.0, 1100164161.0, 1411788882.0, 6851194596.0, 3002515560.0, 2304203229.0, 2502096300.0, 5321883009.0, 2209426854.0, 4431743295.0, 2534699373.0, 1863682638.0, 1925855940.0, 1929646995.0, 1915240986.0, 1899318555.0, 1751467410.0, 1555090761.0, 2970148.0, 1485074.0, 742537.0, 1485074.0, 742537.0, 742537.0, 742537.0, 742537.0, 742537.0, 742537.0, 1485074.0, 742537.0, 742537.0, 742537.0, 2970148.0, 742537.0, 3712685.0, 2227611.0, 1485074.0, 742537.0, 742537.0, 742537.0, 2227611.0, 10395518.0, 1485074.0, 2970148.0, 742537.0, 742537.0, 742537.0, 742537.0, 740309389.0, 218305878.0, 140339493.0, 188604398.0, 161130529.0, 86876829.0, 85391755.0, 129943975.0, 77966385.0, 73511163.0, 73511163.0, 122518605.0, 72768626.0, 71283552.0, 66085793.0, 63115645.0, 63115645.0, 61630571.0, 60888034.0, 60888034.0, 108410402.0, 60145497.0, 59402960.0, 190832009.0, 332656576.0, 182664102.0, 264343172.0, 102470106.0, 53462664.0, 51977590.0, 1321715860.0, 1240036790.0, 354932686.0, 262115561.0, 449977422.0, 1046234633.0, 135884271.0, 201970064.0, 3951781914.0, 323003595.0, 897727233.0, 357160297.0, 193059620.0, 1660312732.0, 705410150.0, 669025837.0, 362358056.0, 329686428.0, 330428965.0, 1254887530.0, 309637929.0, 920003343.0, 1773178356.0, 458887866.0, 430671460.0, 2655312312.0, 524973659.0, 647492264.0, 726201186.0, 2334536328.0, 1493984444.0, 1539279201.0, 1763525375.0, 455175181.0, 1401909856.0, 640066894.0, 1597939624.0, 742537000.0, 1038066726.0, 1458342668.0, 1358842710.0, 871738438.0, 1101182371.0, 1317260638.0, 5437598451.0, 1058857762.0, 1617988123.0, 2179346095.0, 1268995733.0, 1554872478.0, 2008562585.0, 1450174761.0, 2347159457.0, 1515518017.0, 1741249265.0, 1352159877.0, 1121230870.0, 1113805500.0, 3861054.0, 643509.0, 643509.0, 643509.0, 1287018.0, 643509.0, 643509.0, 643509.0, 643509.0, 643509.0, 643509.0, 643509.0, 5791581.0, 643509.0, 643509.0, 643509.0, 5791581.0, 643509.0, 1287018.0, 643509.0, 1287018.0, 643509.0, 643509.0, 643509.0, 643509.0, 643509.0, 643509.0, 1287018.0, 1930527.0, 643509.0, 487136313.0, 359078022.0, 349425387.0, 1805686254.0, 307597302.0, 823048011.0, 339772752.0, 263838690.0, 261908163.0, 248394474.0, 304379757.0, 740678859.0, 227158677.0, 220080078.0, 280569924.0, 917000325.0, 400262598.0, 187261119.0, 185330592.0, 184043574.0, 1493584389.0, 276708870.0, 275421852.0, 1205935866.0, 164094795.0, 159590232.0, 158946723.0, 156372687.0, 154442160.0, 151224615.0, 682763049.0, 405410670.0, 300518703.0, 340416261.0, 245176929.0, 245176929.0, 593315298.0, 1756779570.0, 472979115.0, 475553151.0, 380313819.0, 306953793.0, 1021892292.0, 446595246.0, 2379696282.0, 2415732786.0, 1222667100.0, 1785737475.0, 1054067742.0, 691128666.0, 894477510.0, 2125510227.0, 465257007.0, 2933757531.0, 2234263248.0, 668605851.0, 543765105.0, 924722433.0, 945314721.0, 875172240.0, 969768063.0, 1435025070.0, 964619991.0, 1234250262.0, 921504888.0, 1218162537.0, 1735543773.0, 1091391264.0, 1098469863.0, 1430520507.0, 2139667425.0, 1463339466.0, 3068894421.0, 1600406883.0, 1964632977.0, 1755492552.0, 1250337987.0, 1317262923.0, 1122279696.0, 1150594092.0, 1118418642.0, 1107478989.0, 642985.0, 1285970.0, 642985.0, 2571940.0, 1285970.0, 1285970.0, 1285970.0, 642985.0, 2571940.0, 642985.0, 642985.0, 642985.0, 642985.0, 642985.0, 642985.0, 6429850.0, 1928955.0, 1928955.0, 2571940.0, 97733720.0, 1285970.0, 3214925.0, 7072835.0, 7715820.0, 642985.0, 642985.0, 4500895.0, 642985.0, 642985.0, 642985.0, 1466005800.0, 1155444045.0, 761294240.0, 760008270.0, 852598110.0, 1260250600.0, 756793345.0, 349140855.0, 403794580.0, 383862045.0, 306703845.0, 300916980.0, 282270415.0, 401222640.0, 235332510.0, 224401765.0, 280341460.0, 289343250.0, 206398185.0, 206398185.0, 434014875.0, 180035800.0, 234689525.0, 579972470.0, 497670390.0, 224401765.0, 164604160.0, 163961175.0, 158174310.0, 302845935.0, 1169589715.0, 1142584345.0, 2081985430.0, 841667365.0, 1590101905.0, 620480525.0, 447517560.0, 453947410.0, 3807757170.0, 952260785.0, 615336645.0, 827521695.0, 2214440340.0, 913038700.0, 626267390.0, 1282112090.0, 1254463735.0, 1049351520.0, 1540592060.0, 985053020.0, 537535460.0, 709212455.0, 1427426700.0, 954832725.0, 2847780565.0, 1249962840.0, 1700052340.0, 1153515090.0, 1247390900.0, 1913523360.0, 5379212510.0, 1816432625.0, 1449931175.0, 1883303065.0, 1334836860.0, 3801327320.0, 1946315595.0, 1168303745.0, 1441572370.0, 2244017650.0, 1384989690.0, 1366343125.0, 1476293560.0, 1440286400.0, 1419710880.0, 1375987900.0, 1365057155.0, 1323263130.0], \"Total\": [4111068829.0, 5595114014.0, 3749018186.0, 4391194414.0, 2749084998.0, 3691339125.0, 3823947132.0, 2465799460.0, 2159152877.0, 3391060989.0, 2409119802.0, 2852489993.0, 2777722689.0, 1836194927.0, 3328046553.0, 3962620600.0, 1866552597.0, 13711034104.0, 2605916458.0, 14155733965.0, 2963985567.0, 2827453581.0, 1644408300.0, 1472224841.0, 1525538582.0, 2813688047.0, 2016026033.0, 2086830819.0, 3868865476.0, 5671304764.0, 5307477.0, 10614954.0, 10614954.0, 3791055.0, 6823899.0, 30328440.0, 5307477.0, 9856743.0, 18955275.0, 6823899.0, 7582110.0, 15922431.0, 3791055.0, 7582110.0, 7582110.0, 3791055.0, 9856743.0, 3791055.0, 14406009.0, 6823899.0, 3791055.0, 5307477.0, 3791055.0, 9856743.0, 3791055.0, 3791055.0, 3791055.0, 5307477.0, 19713486.0, 5307477.0, 2749084998.0, 1374542499.0, 1374542499.0, 3749018186.0, 2465799460.0, 163773576.0, 297830349.0, 162142452.0, 90227109.0, 858629865.0, 67480779.0, 1555568339.0, 62931513.0, 62173302.0, 58382247.0, 57624036.0, 53832981.0, 53832981.0, 47009082.0, 99309967.0, 44734449.0, 43218027.0, 41701605.0, 1611735084.0, 40185183.0, 39426972.0, 39426972.0, 39426972.0, 37910550.0, 36394128.0, 2016026033.0, 350958619.0, 189834383.0, 375311058.0, 739571376.0, 3691339125.0, 82629325.0, 163840431.0, 93788236.0, 1028846413.0, 686943029.0, 360245565.0, 391858626.0, 288293589.0, 3391060989.0, 1587461653.0, 731067793.0, 5595114014.0, 485126373.0, 1034873045.0, 1602558195.0, 1688132362.0, 1245559338.0, 2963985567.0, 1648563137.0, 1493488924.0, 1325295825.0, 2813688047.0, 1650070818.0, 789307683.0, 1975160090.0, 1714012131.0, 2698007098.0, 1290386753.0, 1741517899.0, 13711034104.0, 5671304764.0, 3868865476.0, 4468636760.0, 14155733965.0, 4222562924.0, 15182253817.0, 6851976887.0, 3722216432.0, 5120293294.0, 5302688418.0, 5212279155.0, 5231250973.0, 4753976570.0, 2821081300.0, 2970148.0, 1485074.0, 742537.0, 1485074.0, 742537.0, 742537.0, 742537.0, 742537.0, 742537.0, 742537.0, 1485074.0, 742537.0, 742537.0, 742537.0, 2970148.0, 742537.0, 3712685.0, 2227611.0, 1485074.0, 742537.0, 742537.0, 742537.0, 2227611.0, 10395518.0, 1485074.0, 2970148.0, 742537.0, 742537.0, 742537.0, 742537.0, 746260375.0, 218305878.0, 140339493.0, 189247907.0, 161888740.0, 86876829.0, 85391755.0, 130587484.0, 77966385.0, 73511163.0, 73511163.0, 123161590.0, 72768626.0, 71283552.0, 66085793.0, 63115645.0, 63115645.0, 61630571.0, 60888034.0, 60888034.0, 109053911.0, 60145497.0, 59402960.0, 193106642.0, 338607562.0, 184824033.0, 268548332.0, 103113615.0, 53462664.0, 51977590.0, 1367815979.0, 1294210334.0, 363457708.0, 267078408.0, 464109324.0, 1100961631.0, 137400693.0, 206289926.0, 4391194414.0, 334262058.0, 965500329.0, 373496309.0, 198320298.0, 1853542335.0, 765791875.0, 727387629.0, 384644006.0, 348776461.0, 350785960.0, 1429744026.0, 327769835.0, 1046575810.0, 2128196993.0, 499879756.0, 467135063.0, 3328046553.0, 581545191.0, 730821932.0, 829646643.0, 3006927770.0, 1850868214.0, 1916473831.0, 2316194069.0, 498757370.0, 1795081446.0, 736055173.0, 2183728406.0, 889654182.0, 1341643842.0, 2056945592.0, 1942956973.0, 1129044997.0, 1547500028.0, 1996115278.0, 15182253817.0, 1585972889.0, 3326264324.0, 5671304764.0, 2480871625.0, 3722216432.0, 6571698428.0, 3868865476.0, 14155733965.0, 5962830188.0, 13711034104.0, 6851976887.0, 2634987822.0, 4222562924.0, 3861054.0, 643509.0, 643509.0, 643509.0, 1287018.0, 643509.0, 643509.0, 643509.0, 643509.0, 643509.0, 643509.0, 643509.0, 5791581.0, 643509.0, 643509.0, 643509.0, 5791581.0, 643509.0, 1287018.0, 643509.0, 1287018.0, 643509.0, 643509.0, 643509.0, 643509.0, 643509.0, 643509.0, 1287018.0, 1930527.0, 643509.0, 487136313.0, 359078022.0, 349425387.0, 1836194927.0, 307597302.0, 831654291.0, 340415737.0, 263838690.0, 261908163.0, 248394474.0, 305022742.0, 749252442.0, 227158677.0, 220080078.0, 281328135.0, 931133019.0, 403264094.0, 187261119.0, 185330592.0, 184043574.0, 1525538582.0, 277994840.0, 276707822.0, 1229915137.0, 164094795.0, 159590232.0, 158946723.0, 156372687.0, 154442160.0, 151224615.0, 697982609.0, 410440673.0, 303205869.0, 345315364.0, 247105884.0, 247105884.0, 608900369.0, 1866552597.0, 484012110.0, 488528077.0, 389186058.0, 312197225.0, 1108146341.0, 464240172.0, 2777722689.0, 2852489993.0, 1380696103.0, 2086830819.0, 1177254180.0, 744999577.0, 990411968.0, 2605916458.0, 488439862.0, 3823947132.0, 2827453581.0, 736350354.0, 582715850.0, 1072894551.0, 1103541515.0, 1039231572.0, 1180566308.0, 1933855813.0, 1184477320.0, 1705746227.0, 1164300041.0, 1779509520.0, 3204596986.0, 1568343071.0, 1605532404.0, 2626413800.0, 5962830188.0, 3106280623.0, 15182253817.0, 3777683792.0, 6851976887.0, 6571698428.0, 4468636760.0, 13711034104.0, 4166952597.0, 5231250973.0, 4753976570.0, 14155733965.0, 642985.0, 1285970.0, 642985.0, 2571940.0, 1285970.0, 1285970.0, 1285970.0, 642985.0, 2571940.0, 642985.0, 642985.0, 642985.0, 642985.0, 642985.0, 642985.0, 6429850.0, 1928955.0, 1928955.0, 2571940.0, 97733720.0, 1285970.0, 3214925.0, 7072835.0, 7715820.0, 642985.0, 642985.0, 4500895.0, 642985.0, 642985.0, 642985.0, 1472224841.0, 1158661590.0, 761937749.0, 760651779.0, 854528637.0, 1272735704.0, 760982831.0, 349140855.0, 404552791.0, 384505554.0, 306703845.0, 300916980.0, 282270415.0, 403252195.0, 235332510.0, 224401765.0, 280984969.0, 290101461.0, 206398185.0, 206398185.0, 437446150.0, 180035800.0, 235333034.0, 587048750.0, 503115546.0, 225045274.0, 164604160.0, 163961175.0, 158174310.0, 304875490.0, 1196432738.0, 1169816177.0, 2159152877.0, 857408665.0, 1644408300.0, 630443599.0, 453538545.0, 460481528.0, 4111068829.0, 991343834.0, 634405554.0, 864051366.0, 2409119802.0, 957759977.0, 647936699.0, 1378770333.0, 1347494091.0, 1121310305.0, 1690802992.0, 1062075831.0, 554489141.0, 759022841.0, 1667942938.0, 1082406110.0, 3962620600.0, 1605852186.0, 2439097935.0, 1499527301.0, 1679713833.0, 3146156530.0, 14155733965.0, 3041536367.0, 2147553637.0, 3330231110.0, 1920762271.0, 13711034104.0, 6571698428.0, 1850884428.0, 3326264324.0, 15182253817.0, 3463674939.0, 3700574113.0, 5302688418.0, 5231250973.0, 5120293294.0, 4166952597.0, 4753976570.0, 5212279155.0], \"Category\": [\"Default\", \"Default\", \"Default\", \"Default\", \"Default\", \"Default\", \"Default\", \"Default\", \"Default\", \"Default\", \"Default\", \"Default\", \"Default\", \"Default\", \"Default\", \"Default\", \"Default\", \"Default\", \"Default\", \"Default\", \"Default\", \"Default\", \"Default\", \"Default\", \"Default\", \"Default\", \"Default\", \"Default\", \"Default\", \"Default\", \"Topic1\", \"Topic1\", \"Topic1\", \"Topic1\", \"Topic1\", \"Topic1\", \"Topic1\", \"Topic1\", \"Topic1\", \"Topic1\", \"Topic1\", \"Topic1\", \"Topic1\", \"Topic1\", \"Topic1\", \"Topic1\", \"Topic1\", \"Topic1\", \"Topic1\", \"Topic1\", \"Topic1\", \"Topic1\", \"Topic1\", \"Topic1\", \"Topic1\", \"Topic1\", \"Topic1\", \"Topic1\", \"Topic1\", \"Topic1\", \"Topic1\", \"Topic1\", \"Topic1\", \"Topic1\", \"Topic1\", \"Topic1\", \"Topic1\", \"Topic1\", \"Topic1\", \"Topic1\", \"Topic1\", \"Topic1\", \"Topic1\", \"Topic1\", \"Topic1\", \"Topic1\", \"Topic1\", \"Topic1\", \"Topic1\", \"Topic1\", \"Topic1\", \"Topic1\", \"Topic1\", \"Topic1\", \"Topic1\", \"Topic1\", \"Topic1\", \"Topic1\", \"Topic1\", \"Topic1\", \"Topic1\", \"Topic1\", \"Topic1\", \"Topic1\", \"Topic1\", \"Topic1\", \"Topic1\", \"Topic1\", \"Topic1\", \"Topic1\", \"Topic1\", \"Topic1\", \"Topic1\", \"Topic1\", \"Topic1\", \"Topic1\", \"Topic1\", \"Topic1\", \"Topic1\", \"Topic1\", \"Topic1\", \"Topic1\", \"Topic1\", \"Topic1\", \"Topic1\", \"Topic1\", \"Topic1\", \"Topic1\", \"Topic1\", \"Topic1\", \"Topic1\", \"Topic1\", \"Topic1\", \"Topic1\", \"Topic1\", \"Topic1\", \"Topic1\", \"Topic1\", \"Topic1\", \"Topic1\", \"Topic1\", \"Topic1\", \"Topic1\", \"Topic1\", \"Topic1\", \"Topic1\", \"Topic1\", \"Topic1\", \"Topic1\", \"Topic1\", \"Topic2\", \"Topic2\", \"Topic2\", \"Topic2\", \"Topic2\", \"Topic2\", \"Topic2\", \"Topic2\", \"Topic2\", \"Topic2\", \"Topic2\", \"Topic2\", \"Topic2\", \"Topic2\", \"Topic2\", \"Topic2\", \"Topic2\", \"Topic2\", \"Topic2\", \"Topic2\", \"Topic2\", \"Topic2\", \"Topic2\", \"Topic2\", \"Topic2\", \"Topic2\", \"Topic2\", \"Topic2\", \"Topic2\", \"Topic2\", \"Topic2\", \"Topic2\", \"Topic2\", \"Topic2\", \"Topic2\", \"Topic2\", \"Topic2\", \"Topic2\", \"Topic2\", \"Topic2\", \"Topic2\", \"Topic2\", \"Topic2\", \"Topic2\", \"Topic2\", \"Topic2\", \"Topic2\", \"Topic2\", \"Topic2\", \"Topic2\", \"Topic2\", \"Topic2\", \"Topic2\", \"Topic2\", \"Topic2\", \"Topic2\", \"Topic2\", \"Topic2\", \"Topic2\", \"Topic2\", \"Topic2\", \"Topic2\", \"Topic2\", \"Topic2\", \"Topic2\", \"Topic2\", \"Topic2\", \"Topic2\", \"Topic2\", \"Topic2\", \"Topic2\", \"Topic2\", \"Topic2\", \"Topic2\", \"Topic2\", \"Topic2\", \"Topic2\", \"Topic2\", \"Topic2\", \"Topic2\", \"Topic2\", \"Topic2\", \"Topic2\", \"Topic2\", \"Topic2\", \"Topic2\", \"Topic2\", \"Topic2\", \"Topic2\", \"Topic2\", \"Topic2\", \"Topic2\", \"Topic2\", \"Topic2\", \"Topic2\", \"Topic2\", \"Topic2\", \"Topic2\", \"Topic2\", \"Topic2\", \"Topic2\", \"Topic2\", \"Topic2\", \"Topic2\", \"Topic2\", \"Topic2\", \"Topic2\", \"Topic2\", \"Topic2\", \"Topic2\", \"Topic2\", \"Topic2\", \"Topic2\", \"Topic2\", \"Topic2\", \"Topic2\", \"Topic2\", \"Topic2\", \"Topic3\", \"Topic3\", \"Topic3\", \"Topic3\", \"Topic3\", \"Topic3\", \"Topic3\", \"Topic3\", \"Topic3\", \"Topic3\", \"Topic3\", \"Topic3\", \"Topic3\", \"Topic3\", \"Topic3\", \"Topic3\", \"Topic3\", \"Topic3\", \"Topic3\", \"Topic3\", \"Topic3\", \"Topic3\", \"Topic3\", \"Topic3\", \"Topic3\", \"Topic3\", \"Topic3\", \"Topic3\", \"Topic3\", \"Topic3\", \"Topic3\", \"Topic3\", \"Topic3\", \"Topic3\", \"Topic3\", \"Topic3\", \"Topic3\", \"Topic3\", \"Topic3\", \"Topic3\", \"Topic3\", \"Topic3\", \"Topic3\", \"Topic3\", \"Topic3\", \"Topic3\", \"Topic3\", \"Topic3\", \"Topic3\", \"Topic3\", \"Topic3\", \"Topic3\", \"Topic3\", \"Topic3\", \"Topic3\", \"Topic3\", \"Topic3\", \"Topic3\", \"Topic3\", \"Topic3\", \"Topic3\", \"Topic3\", \"Topic3\", \"Topic3\", \"Topic3\", \"Topic3\", \"Topic3\", \"Topic3\", \"Topic3\", \"Topic3\", \"Topic3\", \"Topic3\", \"Topic3\", \"Topic3\", \"Topic3\", \"Topic3\", \"Topic3\", \"Topic3\", \"Topic3\", \"Topic3\", \"Topic3\", \"Topic3\", \"Topic3\", \"Topic3\", \"Topic3\", \"Topic3\", \"Topic3\", \"Topic3\", \"Topic3\", \"Topic3\", \"Topic3\", \"Topic3\", \"Topic3\", \"Topic3\", \"Topic3\", \"Topic3\", \"Topic3\", \"Topic3\", \"Topic3\", \"Topic3\", \"Topic3\", \"Topic3\", \"Topic3\", \"Topic3\", \"Topic3\", \"Topic3\", \"Topic3\", \"Topic3\", \"Topic3\", \"Topic3\", \"Topic3\", \"Topic3\", \"Topic4\", \"Topic4\", \"Topic4\", \"Topic4\", \"Topic4\", \"Topic4\", \"Topic4\", \"Topic4\", \"Topic4\", \"Topic4\", \"Topic4\", \"Topic4\", \"Topic4\", \"Topic4\", \"Topic4\", \"Topic4\", \"Topic4\", \"Topic4\", \"Topic4\", \"Topic4\", \"Topic4\", \"Topic4\", \"Topic4\", \"Topic4\", \"Topic4\", \"Topic4\", \"Topic4\", \"Topic4\", \"Topic4\", \"Topic4\", \"Topic4\", \"Topic4\", \"Topic4\", \"Topic4\", \"Topic4\", \"Topic4\", \"Topic4\", \"Topic4\", \"Topic4\", \"Topic4\", \"Topic4\", \"Topic4\", \"Topic4\", \"Topic4\", \"Topic4\", \"Topic4\", \"Topic4\", \"Topic4\", \"Topic4\", \"Topic4\", \"Topic4\", \"Topic4\", \"Topic4\", \"Topic4\", \"Topic4\", \"Topic4\", \"Topic4\", \"Topic4\", \"Topic4\", \"Topic4\", \"Topic4\", \"Topic4\", \"Topic4\", \"Topic4\", \"Topic4\", \"Topic4\", \"Topic4\", \"Topic4\", \"Topic4\", \"Topic4\", \"Topic4\", \"Topic4\", \"Topic4\", \"Topic4\", \"Topic4\", \"Topic4\", \"Topic4\", \"Topic4\", \"Topic4\", \"Topic4\", \"Topic4\", \"Topic4\", \"Topic4\", \"Topic4\", \"Topic4\", \"Topic4\", \"Topic4\", \"Topic4\", \"Topic4\", \"Topic4\", \"Topic4\", \"Topic4\", \"Topic4\", \"Topic4\", \"Topic4\", \"Topic4\", \"Topic4\", \"Topic4\", \"Topic4\", \"Topic4\", \"Topic4\", \"Topic4\", \"Topic4\", \"Topic4\", \"Topic4\", \"Topic4\", \"Topic4\", \"Topic4\"], \"logprob\": [30.0, 29.0, 28.0, 27.0, 26.0, 25.0, 24.0, 23.0, 22.0, 21.0, 20.0, 19.0, 18.0, 17.0, 16.0, 15.0, 14.0, 13.0, 12.0, 11.0, 10.0, 9.0, 8.0, 7.0, 6.0, 5.0, 4.0, 3.0, 2.0, 1.0, 1.9459, 2.6391, 2.6391, 1.6094, 2.1972, 3.6889, 1.9459, 2.5649, 3.2189, 2.1972, 2.3026, 3.0445, 1.6094, 2.3026, 2.3026, 1.6094, 2.5649, 1.6094, 2.9444, 2.1972, 1.6094, 1.9459, 1.6094, 2.5649, 1.6094, 1.6094, 1.6094, 1.9459, 3.2581, 1.9459, 8.1926, 7.4994, 7.4994, 8.4845, 8.0615, 5.3753, 5.9661, 5.3613, 4.7791, 7.0085, 4.4886, 7.5944, 4.4188, 4.4067, 4.3438, 4.3307, 4.2627, 4.2627, 4.1271, 4.8675, 4.0775, 4.0431, 4.0073, 7.6251, 3.9703, 3.9512, 3.9512, 3.9512, 3.912, 3.8712, 7.826, 6.1115, 5.5053, 6.1717, 6.8341, 8.4085, 4.6821, 5.3519, 4.804, 7.1507, 6.7488, 6.1225, 6.2005, 5.8944, 8.2853, 7.547, 6.7912, 8.7418, 6.3936, 7.1188, 7.5273, 7.5761, 7.2855, 8.102, 7.5385, 7.4466, 7.333, 8.0285, 7.5321, 6.848, 7.6723, 7.5332, 7.9342, 7.28, 7.5294, 9.109, 8.284, 8.0193, 8.1017, 8.8564, 7.9773, 8.6733, 8.1146, 7.8071, 7.8399, 7.8419, 7.8344, 7.826, 7.745, 7.6261, 1.3863, 0.6931, 0.0, 0.6931, 0.0, 0.0, 0.0, 0.0, 0.0, 0.0, 0.6931, 0.0, 0.0, 0.0, 1.3863, 0.0, 1.6094, 1.0986, 0.6931, 0.0, 0.0, 0.0, 1.0986, 2.6391, 0.6931, 1.3863, 0.0, 0.0, 0.0, 0.0, 6.9048, 5.6836, 5.2417, 5.5373, 5.3799, 4.7622, 4.7449, 5.1648, 4.654, 4.5951, 4.5951, 5.1059, 4.585, 4.5643, 4.4886, 4.4427, 4.4427, 4.4188, 4.4067, 4.4067, 4.9836, 4.3944, 4.382, 5.5491, 6.1048, 5.5053, 5.8749, 4.9273, 4.2767, 4.2485, 7.4844, 7.4206, 6.1696, 5.8665, 6.4069, 7.2506, 5.2095, 5.6058, 8.5796, 6.0753, 7.0975, 6.1759, 5.5607, 7.7124, 6.8565, 6.8035, 6.1903, 6.0958, 6.0981, 7.4325, 6.0331, 7.1221, 7.7782, 6.4265, 6.363, 8.182, 6.561, 6.7708, 6.8855, 8.0533, 7.6069, 7.6368, 7.7728, 6.4184, 7.5433, 6.7593, 7.6742, 6.9078, 7.2428, 7.5827, 7.5121, 7.0682, 7.3018, 7.481, 8.8988, 7.2626, 7.6866, 7.9845, 7.4437, 7.6468, 7.9029, 7.5771, 8.0586, 7.6212, 7.76, 7.5071, 7.3199, 7.3132, 1.7918, 0.0, 0.0, 0.0, 0.6931, 0.0, 0.0, 0.0, 0.0, 0.0, 0.0, 0.0, 2.1972, 0.0, 0.0, 0.0, 2.1972, 0.0, 0.6931, 0.0, 0.6931, 0.0, 0.0, 0.0, 0.0, 0.0, 0.0, 0.6931, 1.0986, 0.0, 6.6294, 6.3244, 6.2971, 7.9395, 6.1696, 7.1538, 6.2691, 6.0162, 6.0088, 5.9558, 6.1591, 7.0484, 5.8665, 5.8348, 6.0776, 7.2619, 6.4329, 5.6733, 5.663, 5.656, 7.7498, 6.0638, 6.0591, 7.5358, 5.5413, 5.5134, 5.5094, 5.4931, 5.4806, 5.4596, 6.967, 6.4457, 6.1463, 6.271, 5.9428, 5.9428, 6.8265, 7.9121, 6.5999, 6.6053, 6.3818, 6.1675, 7.3702, 6.5425, 8.2155, 8.2306, 7.5496, 7.9284, 7.4012, 6.9791, 7.2371, 8.1026, 6.5834, 8.4249, 8.1525, 6.946, 6.7393, 7.2703, 7.2923, 7.2152, 7.3179, 7.7098, 7.3126, 7.559, 7.2668, 7.5459, 7.8999, 7.436, 7.4425, 7.7066, 8.1092, 7.7293, 8.4699, 7.8188, 8.0239, 7.9113, 7.572, 7.6241, 7.4639, 7.4889, 7.4605, 7.4507, 0.0, 0.6931, 0.0, 1.3863, 0.6931, 0.6931, 0.6931, 0.0, 1.3863, 0.0, 0.0, 0.0, 0.0, 0.0, 0.0, 2.3026, 1.0986, 1.0986, 1.3863, 5.0239, 0.6931, 1.6094, 2.3979, 2.4849, 0.0, 0.0, 1.9459, 0.0, 0.0, 0.0, 7.7319, 7.4939, 7.0767, 7.075, 7.1899, 7.5807, 7.0707, 6.2971, 6.4425, 6.3919, 6.1675, 6.1485, 6.0845, 6.4362, 5.9026, 5.8551, 6.0776, 6.1092, 5.7714, 5.7714, 6.5147, 5.6348, 5.8999, 6.8046, 6.6516, 5.8551, 5.5452, 5.5413, 5.5053, 6.1549, 7.506, 7.4827, 8.0827, 7.177, 7.8132, 6.8721, 6.5453, 6.5596, 8.6864, 7.3005, 6.8638, 7.1601, 8.1444, 7.2584, 6.8814, 7.5979, 7.5761, 7.3976, 7.7816, 7.3343, 6.7286, 7.0058, 7.7053, 7.3032, 8.3959, 7.5725, 7.88, 7.4922, 7.5704, 7.9983, 9.0319, 7.9463, 7.7209, 7.9824, 7.6382, 8.6847, 8.0153, 7.5049, 7.7151, 8.1577, 7.6751, 7.6615, 7.7389, 7.7142, 7.6998, 7.6686, 7.6606, 7.6295], \"loglift\": [30.0, 29.0, 28.0, 27.0, 26.0, 25.0, 24.0, 23.0, 22.0, 21.0, 20.0, 19.0, 18.0, 17.0, 16.0, 15.0, 14.0, 13.0, 12.0, 11.0, 10.0, 9.0, 8.0, 7.0, 6.0, 5.0, 4.0, 3.0, 2.0, 1.0, 14.7502, 14.7502, 14.7502, 14.7502, 14.7502, 14.7502, 14.7502, 14.7502, 14.7502, 14.7502, 14.7502, 14.7502, 14.7502, 14.7502, 14.7502, 14.7502, 14.7502, 14.7502, 14.7502, 14.7502, 14.7502, 14.7502, 14.7502, 14.7502, 14.7502, 14.7502, 14.7502, 14.7502, 14.7502, 14.7502, 14.7469, 14.7469, 14.7469, 14.7286, 14.7246, 14.7502, 14.743, 14.7462, 14.7502, 14.7266, 14.7502, 14.7182, 14.7502, 14.7502, 14.7502, 14.7502, 14.7502, 14.7502, 14.7502, 14.7427, 14.7502, 14.7502, 14.7502, 14.7134, 14.7502, 14.7502, 14.7502, 14.7502, 14.7502, 14.7502, 14.6906, 14.7242, 14.7326, 14.7173, 14.7014, 14.6681, 14.7412, 14.7264, 14.7364, 14.6879, 14.6899, 14.7091, 14.703, 14.7038, 14.6298, 14.6505, 14.6701, 14.5855, 14.6826, 14.6502, 14.6213, 14.6181, 14.6316, 14.5811, 14.6042, 14.6111, 14.617, 14.5596, 14.5969, 14.6502, 14.5573, 14.56, 14.5073, 14.5907, 14.5403, 14.0564, 14.1142, 14.232, 14.1702, 13.7719, 14.1025, 13.5189, 13.7557, 14.0584, 13.7723, 13.7393, 13.749, 13.737, 13.7517, 14.1546, 14.7711, 14.7711, 14.7711, 14.7711, 14.7711, 14.7711, 14.7711, 14.7711, 14.7711, 14.7711, 14.7711, 14.7711, 14.7711, 14.7711, 14.7711, 14.7711, 14.7711, 14.7711, 14.7711, 14.7711, 14.7711, 14.7711, 14.7711, 14.7711, 14.7711, 14.7711, 14.7711, 14.7711, 14.7711, 14.7711, 14.7631, 14.7711, 14.7711, 14.7677, 14.7664, 14.7711, 14.7711, 14.7661, 14.7711, 14.7711, 14.7711, 14.7658, 14.7711, 14.7711, 14.7711, 14.7711, 14.7711, 14.7711, 14.7711, 14.7711, 14.7652, 14.7711, 14.7711, 14.7592, 14.7533, 14.7593, 14.7553, 14.7648, 14.7711, 14.7711, 14.7368, 14.7283, 14.7473, 14.7523, 14.7402, 14.7201, 14.76, 14.7499, 14.6656, 14.7368, 14.6983, 14.7264, 14.7442, 14.661, 14.6889, 14.6874, 14.7114, 14.7148, 14.7113, 14.6406, 14.7142, 14.6422, 14.5886, 14.6855, 14.6898, 14.5453, 14.6687, 14.65, 14.6379, 14.518, 14.5569, 14.5519, 14.4985, 14.6796, 14.5239, 14.6313, 14.4588, 14.5903, 14.5145, 14.4272, 14.4135, 14.5124, 14.4308, 14.3554, 13.7443, 14.3671, 14.0504, 13.8147, 14.1007, 13.8982, 13.5857, 13.7898, 12.9742, 13.4013, 12.7075, 13.1482, 13.9166, 13.4384, 14.9142, 14.9142, 14.9142, 14.9142, 14.9142, 14.9142, 14.9142, 14.9142, 14.9142, 14.9142, 14.9142, 14.9142, 14.9142, 14.9142, 14.9142, 14.9142, 14.9142, 14.9142, 14.9142, 14.9142, 14.9142, 14.9142, 14.9142, 14.9142, 14.9142, 14.9142, 14.9142, 14.9142, 14.9142, 14.9142, 14.9142, 14.9142, 14.9142, 14.8975, 14.9142, 14.9038, 14.9123, 14.9142, 14.9142, 14.9142, 14.9121, 14.9027, 14.9142, 14.9142, 14.9115, 14.8989, 14.9067, 14.9142, 14.9142, 14.9142, 14.893, 14.9096, 14.9096, 14.8945, 14.9142, 14.9142, 14.9142, 14.9142, 14.9142, 14.9142, 14.8922, 14.9019, 14.9053, 14.8999, 14.9064, 14.9064, 14.8883, 14.8536, 14.8912, 14.8873, 14.8912, 14.8973, 14.8332, 14.8755, 14.7596, 14.748, 14.7927, 14.7584, 14.8037, 14.8392, 14.8123, 14.7104, 14.8656, 14.6492, 14.6787, 14.8177, 14.845, 14.7656, 14.7595, 14.7424, 14.7175, 14.6159, 14.7089, 14.5907, 14.6803, 14.5352, 14.3009, 14.5516, 14.5347, 14.3066, 13.8893, 14.1615, 13.3154, 14.0554, 13.665, 13.5942, 13.6405, 12.5716, 13.6024, 13.3998, 13.4671, 12.3662, 14.915, 14.915, 14.915, 14.915, 14.915, 14.915, 14.915, 14.915, 14.915, 14.915, 14.915, 14.915, 14.915, 14.915, 14.915, 14.915, 14.915, 14.915, 14.915, 14.915, 14.915, 14.915, 14.915, 14.915, 14.915, 14.915, 14.915, 14.915, 14.915, 14.915, 14.9108, 14.9122, 14.9142, 14.9142, 14.9128, 14.9052, 14.9095, 14.915, 14.9132, 14.9134, 14.915, 14.915, 14.915, 14.91, 14.915, 14.915, 14.9127, 14.9124, 14.915, 14.915, 14.9072, 14.915, 14.9123, 14.9029, 14.9041, 14.9122, 14.915, 14.915, 14.915, 14.9083, 14.8923, 14.8915, 14.8786, 14.8965, 14.8814, 14.8991, 14.9017, 14.9007, 14.8384, 14.8748, 14.8845, 14.8718, 14.8308, 14.8672, 14.881, 14.8423, 14.8435, 14.8487, 14.822, 14.8397, 14.884, 14.8472, 14.7593, 14.7896, 14.5847, 14.6645, 14.5541, 14.6527, 14.6175, 14.4178, 13.9475, 14.3995, 14.5222, 14.345, 14.5511, 13.6322, 13.6982, 14.4549, 14.0789, 13.0032, 13.9984, 13.9187, 13.6363, 13.6252, 13.6323, 13.807, 13.6672, 13.5441]}, \"token.table\": {\"Topic\": [2, 3, 3, 4, 3, 2, 3, 3, 3, 2, 3, 3, 4, 4, 3, 3, 4, 4, 2, 2, 4, 3, 3, 2, 2, 3, 3, 4, 4, 4, 4, 4, 3, 4, 4, 4, 4, 4, 4, 4, 3, 4, 4, 4, 4, 4, 4, 4, 4, 4, 4, 3, 4, 4, 2, 1, 3, 3, 2, 3, 2, 2, 3, 3, 3, 2, 2, 2, 3, 3, 3, 2, 3, 3, 3, 3, 2, 2, 2, 2, 2, 2, 2, 2, 2, 2, 2, 2, 2, 2, 2, 1, 1, 1, 1, 2, 3, 4, 1, 2, 3, 4, 1, 2, 3, 4, 3, 1, 1, 1, 1, 1, 1, 1, 1, 1, 1, 1, 1, 1, 1, 1, 3, 4, 3, 4, 1, 2, 3, 4, 1, 2, 1, 2, 3, 4, 1, 2, 2, 3, 4, 2, 1, 3, 4, 1, 1, 2, 1, 2, 3, 1, 1, 2, 3, 4, 1, 1, 1, 2, 1, 1, 1, 1, 2, 3, 4, 1, 1, 2, 3, 4, 1, 2, 3, 4, 1, 2, 3, 4, 2, 1, 4, 1, 2, 3, 4, 1, 2, 3, 2, 1, 2, 3, 4, 1, 4, 1, 2, 3, 4, 1, 2, 3, 1, 2, 3, 4, 1, 2, 3, 4, 3, 4, 1, 2, 1, 2, 3, 4, 1, 2, 3, 4, 1, 2, 3, 4, 4, 4, 1, 2, 3, 4, 3, 1, 2, 3, 4, 1, 2, 3, 4, 1, 1, 2, 3, 4, 1, 2, 3, 4, 1, 2, 3, 4, 3, 4, 1, 2, 3, 4, 3, 4, 3, 4, 1, 2, 3, 1, 2, 3, 4, 1, 2, 3, 4, 1, 2, 1, 2, 3, 4, 1, 3, 4, 1, 2, 3, 4, 1, 2, 3, 4, 1, 2, 3, 4, 3, 1, 2, 3, 4, 1, 2, 3, 4, 4, 2, 3, 4, 1, 2, 3, 4, 1, 2, 3, 4, 3, 1, 2, 3, 4, 1, 2, 3, 4, 3, 1, 2, 3, 2, 1, 2, 3, 4, 1, 1, 2, 3, 4, 1, 2, 3, 4, 1, 2, 3, 4, 1, 2, 3, 4, 1, 2, 1, 2, 3, 4, 1, 2, 3, 4, 1, 2, 3, 4, 3, 4, 1, 3, 4, 1, 2, 1, 2, 3, 4, 1, 2, 3, 4, 1, 2, 3, 4, 4, 2, 1, 2, 3, 4, 1, 2, 3, 4, 3, 4, 2, 1, 2, 1, 2, 3, 1, 2, 3, 4, 1, 2, 1, 3, 4, 1, 2, 1, 2, 3, 4, 3, 1, 3, 1, 2, 3, 4, 2, 1, 2, 3, 4, 1, 1, 2, 3, 4, 1, 2, 3, 4, 1, 2, 3, 4, 1, 2, 3, 4, 1, 2, 3, 4, 1, 2, 3, 4, 1, 2, 3, 4, 1, 2, 3, 4, 1, 2, 3, 4, 1, 2, 4, 2, 4, 1, 2, 3, 4, 1, 2, 3, 4, 1, 2, 3, 4, 1, 2, 3, 4, 1, 2, 3, 4, 1, 2, 3, 4, 2, 1, 2, 3, 4, 2, 3, 3, 1, 2, 3, 4, 2, 3, 4, 1, 2, 3, 4, 2, 3, 4, 1, 2, 3, 1, 2, 3, 4, 1, 4, 3, 4, 1, 2, 3, 4, 1, 2, 3, 4, 1, 2, 3, 4, 1, 2, 3, 4, 1, 2, 3, 4, 1, 2, 3, 4, 1, 2, 3, 1, 2, 3, 1, 2, 3, 4, 1, 2, 3, 4, 4, 2, 4, 1, 2, 1, 2, 3, 4, 1, 2, 3, 4, 1, 2, 3, 4, 1, 2, 4, 2, 3, 4, 1, 2, 3, 4, 1, 2, 3, 4, 1, 2, 3, 4, 1, 2, 3, 4, 1, 2, 3, 4, 1, 2, 3, 4, 1, 3, 4, 1, 3, 4, 1, 2, 3, 1, 4, 1, 2, 3, 4, 1, 2, 3, 4, 1, 1, 2, 3, 4, 1, 2, 3, 4, 1, 2, 3, 4, 1, 2, 3, 4, 3, 3, 1, 2, 3, 4, 1, 2, 3, 4, 1, 2, 3, 4, 1, 2, 3, 4, 1, 2, 3, 4, 1, 2, 3, 4, 1, 2, 3, 1, 2, 3, 4, 1, 2, 3, 4, 2, 3, 4, 1, 2, 3, 4, 3, 1, 2, 1, 2, 1, 2, 3, 4, 1, 2, 3, 4, 1, 2, 3, 4, 1, 3, 4, 1, 2, 3, 4, 1, 1, 2, 3, 4, 1, 2, 3, 4, 3, 3, 1, 2, 3, 4, 1, 2, 3, 4, 1, 2, 3, 4, 4, 1, 2, 3, 4, 1, 2, 3, 4, 1, 2, 3, 4, 1, 2, 3, 4, 1, 2, 3, 4, 1, 2, 3, 4, 1, 2, 3, 4, 1, 2, 3, 4, 1, 2, 3, 4, 1, 2, 3, 4, 3, 3, 1, 2, 3, 4, 1, 2, 3, 4, 1, 2, 3, 4, 1, 2, 3, 4, 1, 2, 3, 4, 2, 3, 4, 4, 2, 2, 1, 2, 3, 4, 1, 2, 3, 1, 2, 3, 4, 1, 2, 3, 4, 1, 2, 3, 4, 1, 2, 3, 4, 1, 2, 3, 4, 1, 2, 3, 4, 1, 2, 3, 4, 3, 1, 1, 2, 3, 4, 1, 2, 3, 4, 1, 2, 4, 3, 4, 3, 4, 1, 2, 3, 4, 1, 2, 4, 1, 2, 3, 4, 1, 2, 3, 4, 1, 2, 3, 4, 1, 2, 3, 4, 2, 3, 4, 2, 1, 2, 3, 4, 1, 2, 3, 4, 1, 2, 3, 4, 1, 2, 3, 4, 1, 2, 3, 4, 3, 3, 1, 2, 3, 4, 1, 3, 1, 2, 3, 4, 1, 2, 3, 4, 1, 1, 3, 1, 1, 2, 3, 4, 2, 3, 1, 2, 3, 4, 1, 2, 3, 4, 1, 2, 3, 4, 1, 2, 3, 4, 1, 2, 3, 4, 1, 2, 3, 4, 1, 2, 3, 4, 1, 2, 3, 4, 1, 2, 3, 4, 1, 2, 1, 1, 2, 3, 4, 4, 1, 1, 2, 3, 4, 1, 2, 3, 4, 1, 2, 3, 4, 1, 3, 4, 2, 3, 4, 1, 2, 3, 4, 1, 2, 3, 1, 2, 3, 4, 1, 2, 3, 4, 4, 1, 2, 3], \"Freq\": [1.0, 1.0, 1.0, 1.0, 1.0, 1.0, 1.0, 1.0, 1.0, 1.0, 1.0, 1.0, 1.0, 1.0, 1.0, 1.0, 1.0, 1.0, 1.0, 1.0, 1.0, 1.0, 1.0, 1.0, 1.0, 1.0, 1.0, 1.0, 1.0, 1.0, 1.0, 1.0, 1.0, 1.0, 1.0, 1.0, 1.0, 1.0, 1.0, 1.0, 1.0, 1.0, 1.0, 1.0, 1.0, 1.0, 1.0, 1.0, 1.0, 1.0, 1.0, 1.0, 1.0, 1.0, 1.0, 1.0, 1.0, 1.0, 1.0, 1.0, 1.0, 1.0, 1.0, 1.0, 1.0, 1.0, 1.0, 1.0, 1.0, 1.0, 1.0, 1.0, 1.0, 1.0, 1.0, 1.0, 1.0, 1.0, 1.0, 1.0, 1.0, 1.0, 1.0, 1.0, 1.0, 1.0, 1.0, 1.0, 1.0, 1.0, 1.0, 1.0, 1.0, 1.0, 0.0038746918377732683, 0.003794592868139145, 0.004384705699484071, 0.9879460095946035, 0.004810650793838895, 0.0058890041962342135, 0.005103620696765929, 0.984196724313161, 0.20516198976620686, 0.08422561300908489, 0.1134034850749493, 0.5972089121497589, 1.0, 1.0, 1.0, 1.0, 1.0, 1.0, 1.0, 1.0, 1.0, 1.0, 1.0, 1.0, 1.0, 1.0, 1.0, 1.0, 0.9953741227714874, 0.004625877228512587, 0.0027344609851925844, 0.9972655390148074, 0.2530557009373671, 0.51151205093089, 0.12217187537867866, 0.11326037275306415, 1.0, 1.0, 0.09439560896616049, 0.8777008381778684, 0.02565495104925866, 0.0022486018067124974, 1.0, 1.0, 0.0025980738134947588, 0.015761082843733565, 0.9816408433427717, 1.0, 1.0, 0.0022901901204544503, 0.9977098098795455, 1.0, 0.9967587600941832, 0.0032412399058168373, 0.0037603695011835096, 0.003682633842426844, 0.9925569966563896, 1.0, 0.016254023271668194, 0.010381313792318813, 0.8618949850552461, 0.11146967788076687, 1.0, 1.0, 1.0, 1.0, 1.0, 1.0, 1.0, 0.0010300206583730644, 0.0010087277151167157, 0.0021854983766029256, 0.9957757532499073, 1.0, 0.923044068499951, 0.029454960547003608, 0.00880231636739604, 0.03869865458564935, 0.0032664601028969116, 0.011196271485096727, 0.9619918157362737, 0.02354545267573268, 0.08900974959987071, 0.04287034882346704, 0.8421339993700653, 0.025985902206596932, 1.0, 1.0, 1.0, 0.7843444528254536, 0.1348562538140513, 0.011448610354990252, 0.06935068300550483, 1.0, 0.9950722000279905, 0.004927799972009568, 1.0, 0.006118652067996824, 0.01123530970587547, 0.02207035061863309, 0.9605756876074946, 0.002613606278942525, 0.9973863937210575, 0.009399074746290955, 0.01073890279315532, 0.9772051261279392, 0.0026568963326144878, 0.017970595652157164, 0.9695504889274752, 0.012478915420367637, 0.12434285464638385, 0.07549888561567743, 0.10315781723623164, 0.6970004425017071, 0.4851421837045591, 0.42551652825058106, 0.03760942846588989, 0.05173185957897, 0.9981111772162284, 0.0018888227837715974, 1.0, 1.0, 0.012212801565120888, 0.016943806935879643, 0.9276900112924493, 0.0431533802065501, 0.0010119566617308403, 0.0009910371436600536, 0.9885571504083266, 0.009439855786282508, 0.004071442986815614, 0.005582187393141946, 0.9848220461398974, 0.0055243234801449995, 1.0, 1.0, 0.0044731081078616735, 0.0034071632545573994, 0.9790538283482102, 0.013065900289370722, 1.0, 0.500691636837092, 0.41772758419760797, 0.05687860038977981, 0.024702178575520296, 0.5294223613337102, 0.38427596217962656, 0.02848035253285852, 0.05782132395380472, 1.0, 0.5955759494078621, 0.3748320457239904, 0.011476780796707133, 0.01811522407144042, 0.14747325974045095, 0.0978878125825369, 0.12342515369630631, 0.6312137739807059, 0.9396145165935472, 0.0028868720952619, 0.003127332670206821, 0.054371278640984094, 0.9953526069819595, 0.004647393018040524, 0.004542176256649684, 0.0064702237356742244, 0.9833848397294913, 0.005602760278184779, 0.9921938119450041, 0.00780618805499589, 0.002259171801166916, 0.997740828198833, 0.007112098106508737, 0.992025590263988, 0.0008623116295033085, 0.09635428416790945, 0.879060393150115, 0.012912288695073127, 0.011673033986902488, 0.8762758740359957, 0.03342913936744967, 0.03087686141994593, 0.05941812517660863, 0.004683531417935553, 0.9953164685820645, 0.04853717660852823, 0.9179964991420857, 0.02832120691040747, 0.005145117338978616, 0.0025006475056061662, 0.9911374868538577, 0.006361865640536133, 0.9684982775931903, 0.01909365166116305, 0.009514662023472824, 0.002893408722173793, 0.12323027823751928, 0.06940367264332697, 0.0647449695676823, 0.7426210795514714, 0.025972190736747537, 0.017609043204010775, 0.022043123205563717, 0.934375642853678, 1.0, 0.06679332068487254, 0.03333523981949856, 0.8214431128759605, 0.07842832661966836, 0.06979367549637353, 0.9219420551182218, 0.006887825930548912, 0.0013764434548557962, 1.0, 0.0018413712540361993, 0.0031915957704830348, 0.9949670329754807, 0.9546885657592614, 0.00515125572216592, 0.017857046415277727, 0.02230313210329488, 0.002313242156649345, 0.9446809801762264, 0.0490823842895732, 0.003923393377551049, 1.0, 0.9048361917668848, 0.005022605453985904, 0.06156058591708706, 0.028580616862042243, 0.08045522178370323, 0.07269761294919751, 0.7235837561667958, 0.12326340910030341, 1.0, 0.014602736118063012, 0.9765446658239533, 0.008852598057983682, 1.0, 0.003823163880078478, 0.9734738296934184, 0.009734389366437923, 0.012968617060065128, 1.0, 0.01300009616690148, 0.033503562324175014, 0.9221636657463818, 0.03133267576254173, 0.02241557191505506, 0.06928659798492823, 0.026158754776430447, 0.8821390753235863, 0.9414958092543654, 0.03134695613892022, 0.01592512411971794, 0.01123211048699644, 0.36842154861524695, 0.10917878019748002, 0.23525960330931964, 0.2871400678779534, 0.9967587600941832, 0.0032412399058168373, 0.9539104110470699, 0.013264373054786345, 0.009853181080668618, 0.02297203481747522, 0.020819366024645132, 0.1889378895837726, 0.7672066139328623, 0.02303613045871995, 0.03825216535461467, 0.22430593372190824, 0.6841779463704926, 0.05326395455298453, 0.002776949739051935, 0.997223050260948, 0.9862829918242625, 0.006861297615193445, 0.006855710560544075, 0.9910136383178733, 0.008986361682126775, 0.2774575188701309, 0.6993684002697675, 0.010929628033507667, 0.012244452826593808, 0.2937009948237496, 0.12397054689696896, 0.016811230557509264, 0.5655172277217722, 0.8641940590716969, 0.08197546758562514, 0.008197252926928694, 0.045633220415749236, 1.0, 1.0, 0.9050989309157189, 0.055194634676318695, 0.015404052093975211, 0.024302382313987146, 0.0019927151286807413, 0.0009757605162053913, 0.002536886407099505, 0.9944946379480144, 0.0016736013129214774, 0.9983263986870785, 1.0, 0.8790670082342938, 0.12093299176570621, 0.8267714874183699, 0.17285307241503997, 0.00037544016659004617, 0.18238457804436362, 0.8031829999978748, 0.007051329781502245, 0.00738109217625941, 0.011036494553924848, 0.9889635054460751, 0.9743403993734088, 0.012835026000600942, 0.012824574625990308, 0.011779154649688331, 0.9882208453503116, 0.01707543066990712, 0.010641553657633291, 0.9525369307388757, 0.0197460849335839, 1.0, 0.0026951125951195747, 0.9973048874048804, 0.20853511956118678, 0.7737274927245558, 0.006235348561306183, 0.011502039152951294, 1.0, 0.13742431697985216, 0.7763859016806379, 0.017762730296644273, 0.06842705104286559, 1.0, 0.9639142030366077, 0.028103102953859878, 0.004791176959947594, 0.0031915170495848064, 0.8881390193551743, 0.07571072378729178, 0.018082490583037965, 0.01806776627449603, 0.06254252641406965, 0.9197652122840819, 0.015924331866798907, 0.0017679294350495477, 0.01419984363739527, 0.03907007971357224, 0.010903913881358649, 0.9358261627676738, 0.05256300587226194, 0.00885032932149918, 0.01236593526271997, 0.9262207295435189, 0.026281810302222385, 0.0036124215622117695, 0.0031306531352341144, 0.9669751150003317, 0.011083104592916185, 0.010078705763249908, 0.025531806075876566, 0.9533063835679574, 0.0025349055602321706, 0.008068135126539809, 0.01183284070249171, 0.9775641186107363, 0.051251249707502264, 0.9420608415772376, 0.00167299890278285, 0.0050149098124773585, 0.9825401650237408, 0.003911499003844841, 0.013548335972414439, 1.0, 1.0, 0.0021069679912248287, 0.008597550084453794, 0.025035168456948496, 0.9642603134673728, 0.002632520576328792, 0.01804670140409222, 0.02159797638697327, 0.9577228016326057, 0.07527785216528964, 0.09522383973101307, 0.7420538079174779, 0.08744450018621941, 0.04391040695697007, 0.07352070385387263, 0.10418912864997651, 0.7783797605391808, 0.012186278616824855, 0.016310291522955676, 0.9411894274094222, 0.030314002450797264, 0.042698201895829735, 0.950291639182474, 0.002337988834054109, 0.0046721700876422275, 1.0, 0.05026429667600065, 0.8753138364714627, 0.025596194692250444, 0.048825672160286195, 0.9937592237455742, 0.006240776254425762, 1.0, 0.5512392574435908, 0.3771800270343148, 0.016423719514925005, 0.05515699600716931, 0.002378422806288557, 0.9832047450133485, 0.01441683218036291, 0.0195640688182517, 0.0322688566263662, 0.9079996327400421, 0.04016744181533998, 0.00975577664660604, 0.9744045630558651, 0.015839660297528906, 1.0, 0.9965996506370873, 0.003400349362912637, 0.06682183236171332, 0.8999332622124254, 0.007620356751528697, 0.025624548674332503, 0.0018741954495624775, 0.9981258045504375, 0.0008445689964102303, 0.9991554310035897, 0.03432361693376806, 0.027552514143084284, 0.007163396904276295, 0.9309604720188713, 0.5232430857198518, 0.26377475482233925, 0.1272521036799593, 0.08573005577784967, 0.04846769924146761, 0.010171233900305636, 0.022170440405520356, 0.9191906264527064, 0.17782303511146647, 0.7809728406050274, 0.014697867363506803, 0.026506256919999385, 0.36389975101116717, 0.1569739557343156, 0.2007215589712969, 0.2784047342832203, 0.9597459333052442, 0.020611967839215452, 0.010717839094008, 0.008924259761532386, 0.008470106602635684, 0.9843411427332939, 0.007188750664070406, 0.015674419580741672, 0.9824251237484176, 0.0019004566708406825, 0.05808659449906765, 0.8957511790525141, 0.030898836200576988, 0.015263390247841305, 0.0017332670546991898, 0.0016974363587380983, 0.004413176341819445, 0.9921561202447433, 1.0, 0.9947793382660942, 0.005220661733905839, 1.0, 1.0, 0.2919028589837993, 0.35815489034384124, 0.20213694606815702, 0.14780530460420244, 0.0078070057644733706, 0.05351931649018986, 0.9331565376160611, 0.005517140129275701, 0.026768092194918706, 0.036187729161653734, 0.8156478771507878, 0.12139630149263979, 0.9928547946602984, 0.004986308497392252, 0.002158896842309378, 1.0, 0.9921938119450041, 0.00780618805499589, 0.01319803854526365, 0.05223936668500975, 0.004667267525257958, 0.9298953272444687, 0.11686219923735483, 0.12827676210445216, 0.07970622528390894, 0.6751548133742841, 0.8481762189520237, 0.013802015080795814, 0.004945544796900005, 0.1330762211702805, 0.012236957187954091, 0.01702988134643956, 0.8953612226715559, 0.07537193879405041, 0.17435259561303942, 0.7089845612211992, 0.08102734056176242, 0.03563550260399887, 0.004170132874656905, 0.000583418063676793, 0.0050561086483042516, 0.9901903404133621, 0.003343535002080143, 0.009932040065084215, 0.9867244249328356, 1.0, 0.9978920096390714, 0.002107990360928563, 0.056198047379091225, 0.9419674749810397, 0.0018344776398690529, 0.9764532479776008, 0.02354675202239916, 0.015705697760106548, 0.021673261294654203, 0.03514205004068113, 0.9274789909045581, 0.08266161283462906, 0.23672204605789274, 0.07240650102046893, 0.6082098400870093, 1.0, 0.8865386452063012, 0.06831830649802566, 0.018976627140810175, 0.026166421154862927, 0.21068221266617, 0.7115879489987318, 0.038672914970700085, 0.03905692336439816, 0.10507027847489905, 0.8695909185601227, 0.006994138739651246, 0.01834466422532703, 0.02624503692481001, 0.12788556221574593, 0.8143845177212848, 0.0314848831381592, 1.0, 1.0, 0.08382262084630318, 0.04440924182177233, 0.8566190833337158, 0.015149053998208668, 0.015455669023612605, 0.05119584912322702, 0.07754780217787043, 0.8558006796752899, 0.011355631564195934, 0.9814180148924656, 0.004818877009331282, 0.002407476534007197, 0.108872915817376, 0.08038830994821962, 0.09207785448851702, 0.7186609197458873, 0.921231081687733, 0.03922552496446666, 0.003486588352946304, 0.036056804994854, 0.023318489609107575, 0.023275604068720503, 0.04224590288636064, 0.9111600034358113, 0.0317563831908197, 0.9663184536487237, 0.001925163160456578, 0.9747462877617793, 0.021079406838705367, 0.002609737776485684, 0.0015645676230296522, 0.9524138465304801, 0.03714836713745395, 0.006090775205989043, 0.004347011126076897, 0.0024355418010152275, 0.004221454469823074, 0.9933430037291617, 0.8444219630709153, 0.03356964996989137, 0.113331084246808, 0.008677302712385307, 1.0, 0.9766505920452697, 0.023349407954730297, 0.9967587600941832, 0.0032412399058168373, 0.13106622366147322, 0.3056382770764599, 0.267129201261029, 0.29616629800103783, 0.9048876342940653, 0.04703723376781067, 0.015490373733002166, 0.03258475820512189, 0.015041450559263522, 0.012052234220399277, 0.003481631753001273, 0.9694246834673359, 0.01755289524046546, 0.015890663418032445, 0.9665564413415021, 0.05752061669217707, 0.19361355706599423, 0.6845496038706216, 0.0643162223712071, 1.0, 0.49968474617106096, 0.12699620260531735, 0.09607320009624272, 0.277245851127379, 0.8525848226837772, 0.05869463075617919, 0.030919069734126448, 0.057801476825917165, 1.0, 1.0, 0.8753236885810004, 0.021290647316420844, 0.05632481638580579, 0.04706084771677297, 0.040375401824794745, 0.07206620118980138, 0.7914668517992434, 0.09609154518616048, 0.0036946192221061873, 0.005427364163785006, 0.987744871961069, 0.003133144653039783, 1.0, 0.3759524601238153, 0.16580980278404095, 0.07823536326256468, 0.3800023738295791, 0.8264715555370165, 0.14540982517099912, 0.013036275659310856, 0.015082343632673505, 0.04272564665933449, 0.022617517468115647, 0.5446668407697218, 0.38998999510282806, 0.2511952625768152, 0.24620312178030956, 0.1333769809571167, 0.36922463468575856, 0.005431446215302479, 0.005319165480812144, 0.9781949294957291, 0.01105445880815635, 0.08158564248098249, 0.8331833762721608, 0.0384013525387027, 0.04682962870815409, 0.07442588072911077, 0.06403671965484788, 0.8468856304240153, 0.014651769192026048, 0.3014507376013078, 0.0970517665943667, 0.4710905560704713, 0.13040693973385417, 0.9346228183723172, 0.02295907957162329, 0.006632385248616446, 0.03578571680744308, 0.058126410341164454, 0.48642800613460807, 0.022054779432495876, 0.4333908040917316, 1.0, 1.0, 0.03239095956703468, 0.14913774882868086, 0.6958880899088692, 0.12258320169541527, 0.07128724367831664, 0.9211512592765495, 0.0058822287713616705, 0.0016792682737721656, 0.03857068638394496, 0.9562619185080086, 0.0034458653780163593, 0.0017215297300300764, 0.13421436232854805, 0.7613892974699609, 0.021115106309340954, 0.08328123389215017, 0.9421101334558014, 0.036831716845196115, 0.01021429667222953, 0.010843853026772893, 0.004427633011363954, 0.006395240667041523, 0.9891771263215945, 1.0, 1.0, 1.0, 0.17701974344948412, 0.7978591253798486, 0.005994140611409891, 0.01912699055925736, 0.008204679745301304, 0.9883135814918615, 0.00348173876283719, 0.008366063264320035, 0.010534007714566761, 0.01115784525429927, 0.9699420837668139, 0.15596241304466774, 0.83463554156597, 0.007956573625143707, 0.001445471764218605, 0.09401710319965219, 0.7721024762664973, 0.06041562044138795, 0.07346480009246256, 0.006781216645844078, 0.009055954077586087, 0.9805033125631009, 0.0036595167134689877, 0.02430997073907472, 0.6599121065391695, 0.12540608438747694, 0.19037183833427881, 0.01434165586625924, 0.9027220362656219, 0.015491704066038782, 0.0674446038020801, 0.024162655292147225, 0.06561147945819906, 0.8855439639058647, 0.024681901343789045, 1.0, 1.0, 0.8701595526529663, 0.07557178509078785, 0.027576083985742367, 0.026692578270503465, 0.9786517021179368, 0.014656567472836474, 0.0036045941442653753, 0.0030871362649612924, 0.07448980453161023, 0.9126184561443172, 0.012891739324072544, 0.0008459968381931569, 0.9991540031618068, 0.002859464624882547, 0.9971405353751175, 0.046847007176209085, 0.02432954450765997, 0.5415794187481645, 0.3872440295679664, 1.0, 1.0, 1.0, 0.19618818668476437, 0.05257549751194587, 0.05628469156868399, 0.6949516242346058, 0.8245596072164459, 0.06992439888758586, 0.052128149268143624, 0.053387844627824574, 0.026279716314111967, 0.12211684298558251, 0.7902033345529926, 0.06140010614731291, 0.20346470045414614, 0.7317483344584015, 0.01149266132685916, 0.0532943037605932, 0.008601262236336522, 0.9858126700670058, 0.005586067696657713, 1.0, 0.3761221925034515, 0.1506741701503789, 0.1959322393066025, 0.2772713980395671, 0.8106657317795388, 0.08698018440521352, 0.10198487428810515, 0.0003692095271425057, 0.22097940350852954, 0.22584606334886168, 0.42364765584382186, 0.1295268772987869, 0.005358857901038611, 0.07722171527717242, 0.9031368146795253, 0.014282612142263612, 0.03260875165540486, 0.9452657070225848, 0.0036900942119485526, 0.018435447110061707, 1.0, 1.0, 0.0019481967157209932, 0.007631691677917198, 0.9772030913810381, 0.013217020225323693, 0.9960312121097071, 0.003968787890292914, 0.008425890489288386, 0.008251707567213785, 0.0066011294353984645, 0.9767212725080994, 0.3674478916123977, 0.181635450989194, 0.19704247095338084, 0.2538741864450274, 1.0, 1.0, 1.0, 1.0, 0.24145069838495026, 0.08167816033039121, 0.2770098048741865, 0.399861336410472, 0.9940991662371467, 0.00590083376285331, 0.026949024500680582, 0.9581416230601664, 0.005966656112328647, 0.008942696326824415, 0.023559111599225566, 0.9298052067261388, 0.022661106726562286, 0.023974574948073372, 0.01852989741570421, 0.020993404257367353, 0.8557174154902109, 0.10475928283671758, 0.06522670106424425, 0.12131927499998214, 0.044201547351487666, 0.769252476584286, 0.07537588194812449, 0.807180345256067, 0.029205080940462896, 0.08823869185534568, 0.36307157978138166, 0.14165864528862857, 0.21994626102600487, 0.2753235139039849, 0.028387982829339953, 0.0438402539181621, 0.8567076517118805, 0.07106411154061751, 0.008314835602604114, 0.9662965488722368, 0.005175110620637077, 0.020213504904521954, 0.32222127978632803, 0.6676392574829191, 0.004869003785347809, 0.005270458945405088, 0.992523036484344, 0.007476963515655986, 1.0, 0.22773680587665263, 0.25416085469781285, 0.35883420415124523, 0.15926813527428932, 1.0, 1.0, 0.8578904138888904, 0.138600957913553, 0.0019499435811487697, 0.0015586846164077788, 0.09026050548247641, 0.885978150967697, 0.007924749855481895, 0.015836593694344685, 0.005470140717400567, 0.0017856866922604502, 0.989651613545273, 0.0030925590450659986, 0.001552031573407397, 0.9734407772841274, 0.025007191142465288, 0.0016125228806137908, 0.012577227636371117, 0.9858102494830151, 0.36992234720011835, 0.19733865120960967, 0.28672498600037966, 0.14601401558989235, 0.9676855004895699, 0.02374149071834702, 0.008573008792083073, 0.2782140166016388, 0.1222429029710414, 0.26932864482499413, 0.3302144356023256, 0.5599238502437598, 0.09537947720772005, 0.2798030035003337, 0.06489366904818641, 1.0, 0.014701852188361345, 0.9790592682649951, 0.0062388795466434945], \"Term\": [\"aac\", \"aachen\", \"aaii\", \"aal\", \"aalborg\", \"aaliyah\", \"aap\", \"aarde\", \"aardsma\", \"aarp\", \"aarrett\", \"aasketball\", \"aathar\", \"aattacks\", \"aau\", \"aba\", \"abacha\", \"abaco\", \"abagnale\", \"abakus\", \"abaya\", \"abbandonato\", \"abbass\", \"abbreviate\", \"abbreviations\", \"abby\", \"abcnews\", \"abd\", \"abdalla\", \"abdel\", \"abdelkrim\", \"abdellah\", \"abdelmalek\", \"abdelraham\", \"abdelrahim\", \"abdelrahman\", \"abderrazak\", \"abdicate\", \"abdicates\", \"abdicating\", \"abdominal\", \"abdoulaye\", \"abducted\", \"abductee\", \"abductees\", \"abducting\", \"abductions\", \"abducts\", \"abdulahi\", \"abdullahi\", \"abdullahs\", \"abdur\", \"abdurahman\", \"abdurrahman\", \"abend\", \"aber\", \"aberdeenshire\", \"aberhet\", \"abertoll\", \"abi\", \"abia\", \"abl\", \"ably\", \"abnormality\", \"abolished\", \"abolishes\", \"abonns\", \"aboot\", \"aborigine\", \"abounded\", \"abounding\", \"abounds\", \"abp\", \"abramovichs\", \"abrasive\", \"abreu\", \"abstraction\", \"abstracts\", \"acacia\", \"accelerators\", \"accented\", \"accentuate\", \"accenturewill\", \"acceptability\", \"accessed\", \"accesses\", \"accessibility\", \"accessoires\", \"acclrer\", \"accoding\", \"accommodates\", \"accredo\", \"advantest\", \"aether\", \"afghan\", \"afghan\", \"afghan\", \"afghan\", \"afghanistan\", \"afghanistan\", \"afghanistan\", \"afghanistan\", \"afp\", \"afp\", \"afp\", \"afp\", \"agassi\", \"agl\", \"ahold\", \"alcoa\", \"alinta\", \"alo\", \"alpharma\", \"alumina\", \"amatil\", \"ambev\", \"amcc\", \"ameritrade\", \"amgn\", \"amortization\", \"anadarko\", \"anf\", \"angels\", \"angels\", \"annan\", \"annan\", \"announced\", \"announced\", \"announced\", \"announced\", \"anz\", \"app\", \"apple\", \"apple\", \"apple\", \"apple\", \"applebee\", \"apps\", \"arafat\", \"arafat\", \"arafat\", \"architecture\", \"argentaria\", \"ariel\", \"ariel\", \"arvinmeritor\", \"aspx\", \"aspx\", \"astros\", \"astros\", \"astros\", \"ath\", \"athens\", \"athens\", \"athens\", \"athens\", \"atherogenics\", \"att\", \"attributing\", \"authentication\", \"automaking\", \"avp\", \"azn\", \"baghdad\", \"baghdad\", \"baghdad\", \"baghdad\", \"ballooned\", \"barrel\", \"barrel\", \"barrel\", \"barrel\", \"basketball\", \"basketball\", \"basketball\", \"basketball\", \"beat\", \"beat\", \"beat\", \"beat\", \"beta\", \"bhp\", \"bigley\", \"billion\", \"billion\", \"billion\", \"billion\", \"billiton\", \"blu\", \"blu\", \"bluetooth\", \"bomb\", \"bomb\", \"bomb\", \"bomb\", \"bombing\", \"bombing\", \"bowl\", \"bowl\", \"bowl\", \"bowl\", \"browser\", \"browser\", \"browser\", \"bush\", \"bush\", \"bush\", \"bush\", \"business\", \"business\", \"business\", \"business\", \"cardinals\", \"cardinals\", \"cazenove\", \"centrino\", \"champion\", \"champion\", \"champion\", \"champion\", \"champions\", \"champions\", \"champions\", \"champions\", \"championship\", \"championship\", \"championship\", \"championship\", \"chechen\", \"cleric\", \"coach\", \"coach\", \"coach\", \"coach\", \"colts\", \"com\", \"com\", \"com\", \"com\", \"company\", \"company\", \"company\", \"company\", \"conocophillips\", \"corp\", \"corp\", \"corp\", \"corp\", \"country\", \"country\", \"country\", \"country\", \"crude\", \"crude\", \"crude\", \"crude\", \"cubs\", \"cubs\", \"cup\", \"cup\", \"cup\", \"cup\", \"dame\", \"dame\", \"darfur\", \"darfur\", \"desktop\", \"desktop\", \"desktop\", \"digital\", \"digital\", \"digital\", \"digital\", \"dollar\", \"dollar\", \"dollar\", \"dollar\", \"downloads\", \"downloads\", \"dvd\", \"dvd\", \"dvd\", \"dvd\", \"eagles\", \"eagles\", \"eagles\", \"earnings\", \"earnings\", \"earnings\", \"earnings\", \"election\", \"election\", \"election\", \"election\", \"elections\", \"elections\", \"elections\", \"elections\", \"els\", \"england\", \"england\", \"england\", \"england\", \"enterprise\", \"enterprise\", \"enterprise\", \"enterprise\", \"falluja\", \"fallujah\", \"fallujah\", \"fallujah\", \"fannie\", \"fannie\", \"fannie\", \"fannie\", \"features\", \"features\", \"features\", \"features\", \"federer\", \"fell\", \"fell\", \"fell\", \"fell\", \"final\", \"final\", \"final\", \"final\", \"finals\", \"firefox\", \"firefox\", \"firefox\", \"firewall\", \"flaw\", \"flaw\", \"flaw\", \"flaw\", \"fnm\", \"football\", \"football\", \"football\", \"football\", \"forces\", \"forces\", \"forces\", \"forces\", \"forecast\", \"forecast\", \"forecast\", \"forecast\", \"friday\", \"friday\", \"friday\", \"friday\", \"fullquote\", \"fullquote\", \"futures\", \"futures\", \"futures\", \"futures\", \"game\", \"game\", \"game\", \"game\", \"games\", \"games\", \"games\", \"games\", \"gaza\", \"gaza\", \"gdp\", \"gdp\", \"gdp\", \"goldman\", \"goldman\", \"google\", \"google\", \"google\", \"google\", \"government\", \"government\", \"government\", \"government\", \"growth\", \"growth\", \"growth\", \"growth\", \"hamas\", \"hellip\", \"higher\", \"higher\", \"higher\", \"higher\", \"hostage\", \"hostage\", \"hostage\", \"hostage\", \"hostages\", \"hostages\", \"hotmail\", \"href\", \"href\", \"http\", \"http\", \"http\", \"ibm\", \"ibm\", \"ibm\", \"ibm\", \"imac\", \"imac\", \"inflation\", \"inflation\", \"inflation\", \"infoworld\", \"infoworld\", \"injury\", \"injury\", \"injury\", \"injury\", \"inning\", \"innings\", \"innings\", \"intel\", \"intel\", \"intel\", \"intel\", \"interface\", \"internet\", \"internet\", \"internet\", \"internet\", \"inventories\", \"investor\", \"investor\", \"investor\", \"investor\", \"investors\", \"investors\", \"investors\", \"investors\", \"ipod\", \"ipod\", \"ipod\", \"ipod\", \"iran\", \"iran\", \"iran\", \"iran\", \"iraq\", \"iraq\", \"iraq\", \"iraq\", \"iraqi\", \"iraqi\", \"iraqi\", \"iraqi\", \"israel\", \"israel\", \"israel\", \"israel\", \"israeli\", \"israeli\", \"israeli\", \"israeli\", \"itunes\", \"itunes\", \"itunes\", \"itunes\", \"jobless\", \"jobless\", \"jobless\", \"jpeg\", \"kabul\", \"killed\", \"killed\", \"killed\", \"killed\", \"killing\", \"killing\", \"killing\", \"killing\", \"lead\", \"lead\", \"lead\", \"lead\", \"leader\", \"leader\", \"leader\", \"leader\", \"league\", \"league\", \"league\", \"league\", \"linux\", \"linux\", \"linux\", \"linux\", \"macromedia\", \"mail\", \"mail\", \"mail\", \"mail\", \"malicious\", \"malicious\", \"mariners\", \"market\", \"market\", \"market\", \"market\", \"masters\", \"masters\", \"masters\", \"match\", \"match\", \"match\", \"match\", \"medal\", \"medal\", \"medal\", \"mercantile\", \"messaging\", \"messaging\", \"microsoft\", \"microsoft\", \"microsoft\", \"microsoft\", \"militant\", \"militant\", \"militants\", \"militants\", \"military\", \"military\", \"military\", \"military\", \"million\", \"million\", \"million\", \"million\", \"minister\", \"minister\", \"minister\", \"minister\", \"mobile\", \"mobile\", \"mobile\", \"mobile\", \"monday\", \"monday\", \"monday\", \"monday\", \"mortgage\", \"mortgage\", \"mortgage\", \"mortgage\", \"mozilla\", \"mozilla\", \"mozilla\", \"msn\", \"msn\", \"msn\", \"music\", \"music\", \"music\", \"music\", \"muslim\", \"muslim\", \"muslim\", \"muslim\", \"myanmar\", \"napster\", \"napster\", \"narrower\", \"netscape\", \"new\", \"new\", \"new\", \"new\", \"nfl\", \"nfl\", \"nfl\", \"nfl\", \"night\", \"night\", \"night\", \"night\", \"nikkei\", \"nikkei\", \"nikkei\", \"notebooks\", \"notre\", \"notre\", \"nuclear\", \"nuclear\", \"nuclear\", \"nuclear\", \"officials\", \"officials\", \"officials\", \"officials\", \"oil\", \"oil\", \"oil\", \"oil\", \"olympic\", \"olympic\", \"olympic\", \"olympic\", \"online\", \"online\", \"online\", \"online\", \"palestinian\", \"palestinian\", \"palestinian\", \"palestinian\", \"palestinians\", \"palestinians\", \"palestinians\", \"palmolive\", \"patriots\", \"patriots\", \"pcs\", \"pcs\", \"pcs\", \"pct\", \"pct\", \"peace\", \"peace\", \"peace\", \"peace\", \"people\", \"people\", \"people\", \"people\", \"pepsico\", \"percent\", \"percent\", \"percent\", \"percent\", \"phone\", \"phone\", \"phone\", \"phone\", \"phones\", \"phones\", \"phones\", \"phones\", \"play\", \"play\", \"play\", \"play\", \"playoff\", \"playoffs\", \"points\", \"points\", \"points\", \"points\", \"police\", \"police\", \"police\", \"police\", \"portable\", \"portable\", \"portable\", \"portable\", \"president\", \"president\", \"president\", \"president\", \"prices\", \"prices\", \"prices\", \"prices\", \"prime\", \"prime\", \"prime\", \"prime\", \"processor\", \"processor\", \"processor\", \"profit\", \"profit\", \"profit\", \"profit\", \"profits\", \"profits\", \"profits\", \"profits\", \"qaeda\", \"qaeda\", \"qaeda\", \"quarter\", \"quarter\", \"quarter\", \"quarter\", \"quarterback\", \"quarterly\", \"quarterly\", \"quickinfo\", \"quickinfo\", \"quot\", \"quot\", \"quot\", \"quot\", \"rates\", \"rates\", \"rates\", \"rates\", \"rebel\", \"rebel\", \"rebel\", \"rebel\", \"rebels\", \"rebels\", \"rebels\", \"red\", \"red\", \"red\", \"red\", \"restate\", \"reuters\", \"reuters\", \"reuters\", \"reuters\", \"rise\", \"rise\", \"rise\", \"rise\", \"roddick\", \"rookie\", \"rose\", \"rose\", \"rose\", \"rose\", \"round\", \"round\", \"round\", \"round\", \"ryder\", \"ryder\", \"ryder\", \"ryder\", \"sadr\", \"said\", \"said\", \"said\", \"said\", \"sales\", \"sales\", \"sales\", \"sales\", \"saturday\", \"saturday\", \"saturday\", \"saturday\", \"says\", \"says\", \"says\", \"says\", \"scored\", \"scored\", \"scored\", \"scored\", \"search\", \"search\", \"search\", \"search\", \"season\", \"season\", \"season\", \"season\", \"second\", \"second\", \"second\", \"second\", \"securities\", \"securities\", \"securities\", \"securities\", \"security\", \"security\", \"security\", \"security\", \"seeded\", \"semifinals\", \"series\", \"series\", \"series\", \"series\", \"server\", \"server\", \"server\", \"server\", \"servers\", \"servers\", \"servers\", \"servers\", \"service\", \"service\", \"service\", \"service\", \"shares\", \"shares\", \"shares\", \"shares\", \"sharon\", \"sharon\", \"sharon\", \"shiite\", \"skype\", \"smartphone\", \"software\", \"software\", \"software\", \"software\", \"solaris\", \"solaris\", \"solaris\", \"soldiers\", \"soldiers\", \"soldiers\", \"soldiers\", \"sony\", \"sony\", \"sony\", \"sony\", \"source\", \"source\", \"source\", \"source\", \"sox\", \"sox\", \"sox\", \"sox\", \"space\", \"space\", \"space\", \"space\", \"spam\", \"spam\", \"spam\", \"spam\", \"sports\", \"sports\", \"sports\", \"sports\", \"steelers\", \"steelmaker\", \"stock\", \"stock\", \"stock\", \"stock\", \"stocks\", \"stocks\", \"stocks\", \"stocks\", \"storage\", \"storage\", \"storage\", \"sudan\", \"sudan\", \"sudanese\", \"sudanese\", \"sunday\", \"sunday\", \"sunday\", \"sunday\", \"suntrust\", \"symbian\", \"syria\", \"talks\", \"talks\", \"talks\", \"talks\", \"target\", \"target\", \"target\", \"target\", \"team\", \"team\", \"team\", \"team\", \"technology\", \"technology\", \"technology\", \"technology\", \"tennis\", \"tennis\", \"tennis\", \"thunderbird\", \"thursday\", \"thursday\", \"thursday\", \"thursday\", \"ticker\", \"ticker\", \"ticker\", \"ticker\", \"time\", \"time\", \"time\", \"time\", \"title\", \"title\", \"title\", \"title\", \"tool\", \"tool\", \"tool\", \"tool\", \"touchdown\", \"touchdowns\", \"tournament\", \"tournament\", \"tournament\", \"tournament\", \"treasuries\", \"treasuries\", \"troops\", \"troops\", \"troops\", \"troops\", \"tuesday\", \"tuesday\", \"tuesday\", \"tuesday\", \"uairq\", \"ufj\", \"unbeaten\", \"unilever\", \"united\", \"united\", \"united\", \"united\", \"unix\", \"unix\", \"users\", \"users\", \"users\", \"users\", \"version\", \"version\", \"version\", \"version\", \"victory\", \"victory\", \"victory\", \"victory\", \"war\", \"war\", \"war\", \"war\", \"web\", \"web\", \"web\", \"web\", \"wednesday\", \"wednesday\", \"wednesday\", \"wednesday\", \"win\", \"win\", \"win\", \"win\", \"windows\", \"windows\", \"windows\", \"windows\", \"wireless\", \"wireless\", \"wireless\", \"wireless\", \"wmt\", \"wmt\", \"woolworths\", \"world\", \"world\", \"world\", \"world\", \"wounding\", \"wpp\", \"www\", \"www\", \"www\", \"www\", \"yahoo\", \"yahoo\", \"yahoo\", \"yahoo\", \"yankees\", \"yankees\", \"yankees\", \"yankees\", \"yards\", \"yards\", \"yards\", \"yasser\", \"yasser\", \"yasser\", \"year\", \"year\", \"year\", \"year\", \"yen\", \"yen\", \"yen\", \"yesterday\", \"yesterday\", \"yesterday\", \"yesterday\", \"york\", \"york\", \"york\", \"york\", \"zarqawi\", \"ziff\", \"ziff\", \"ziff\"]}, \"R\": 30, \"lambda.step\": 0.01, \"plot.opts\": {\"xlab\": \"PC1\", \"ylab\": \"PC2\"}, \"topic.order\": [1, 2, 3, 4]};\n",
       "\n",
       "function LDAvis_load_lib(url, callback){\n",
       "  var s = document.createElement('script');\n",
       "  s.src = url;\n",
       "  s.async = true;\n",
       "  s.onreadystatechange = s.onload = callback;\n",
       "  s.onerror = function(){console.warn(\"failed to load library \" + url);};\n",
       "  document.getElementsByTagName(\"head\")[0].appendChild(s);\n",
       "}\n",
       "\n",
       "if(typeof(LDAvis) !== \"undefined\"){\n",
       "   // already loaded: just create the visualization\n",
       "   !function(LDAvis){\n",
       "       new LDAvis(\"#\" + \"ldavis_el363841406261678178249365532679\", ldavis_el363841406261678178249365532679_data);\n",
       "   }(LDAvis);\n",
       "}else if(typeof define === \"function\" && define.amd){\n",
       "   // require.js is available: use it to load d3/LDAvis\n",
       "   require.config({paths: {d3: \"https://d3js.org/d3.v5\"}});\n",
       "   require([\"d3\"], function(d3){\n",
       "      window.d3 = d3;\n",
       "      LDAvis_load_lib(\"https://cdn.jsdelivr.net/gh/bmabey/pyLDAvis@3.3.1/pyLDAvis/js/ldavis.v3.0.0.js\", function(){\n",
       "        new LDAvis(\"#\" + \"ldavis_el363841406261678178249365532679\", ldavis_el363841406261678178249365532679_data);\n",
       "      });\n",
       "    });\n",
       "}else{\n",
       "    // require.js not available: dynamically load d3 & LDAvis\n",
       "    LDAvis_load_lib(\"https://d3js.org/d3.v5.js\", function(){\n",
       "         LDAvis_load_lib(\"https://cdn.jsdelivr.net/gh/bmabey/pyLDAvis@3.3.1/pyLDAvis/js/ldavis.v3.0.0.js\", function(){\n",
       "                 new LDAvis(\"#\" + \"ldavis_el363841406261678178249365532679\", ldavis_el363841406261678178249365532679_data);\n",
       "            })\n",
       "         });\n",
       "}\n",
       "</script>"
      ],
      "text/plain": [
       "<IPython.core.display.HTML object>"
      ]
     },
     "execution_count": 21,
     "metadata": {},
     "output_type": "execute_result"
    }
   ],
   "source": [
    "# display pyLDAvis data\n",
    "print('Parsed pyLDAvis topics to class names:',parsedpyLDAvistopicsdict)\n",
    "pyLDAvis.display(pyLDAvis_data)"
   ]
  }
 ],
 "metadata": {
  "kernelspec": {
   "display_name": "Python 3",
   "language": "python",
   "name": "python3"
  },
  "language_info": {
   "codemirror_mode": {
    "name": "ipython",
    "version": 3
   },
   "file_extension": ".py",
   "mimetype": "text/x-python",
   "name": "python",
   "nbconvert_exporter": "python",
   "pygments_lexer": "ipython3",
   "version": "3.8.5"
  }
 },
 "nbformat": 4,
 "nbformat_minor": 4
}
